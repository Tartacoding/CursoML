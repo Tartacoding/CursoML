{
  "cells": [
    {
      "cell_type": "markdown",
      "metadata": {
        "colab_type": "text",
        "id": "view-in-github"
      },
      "source": [
        "<a href=\"https://colab.research.google.com/github/Tartacoding/CursoML/blob/main/AulaML.ipynb\" target=\"_parent\"><img src=\"https://colab.research.google.com/assets/colab-badge.svg\" alt=\"Open In Colab\"/></a>"
      ]
    },
    {
      "cell_type": "markdown",
      "metadata": {
        "id": "w0Ryso51RDAY"
      },
      "source": [
        "# Importação das bibliotecas básicas"
      ]
    },
    {
      "cell_type": "code",
      "execution_count": 70,
      "metadata": {
        "colab": {
          "base_uri": "https://localhost:8080/"
        },
        "id": "81UXV3EERzYG",
        "outputId": "46cad1a8-0752-40e2-9622-5da12fd695da"
      },
      "outputs": [
        {
          "name": "stdout",
          "output_type": "stream",
          "text": [
            "Requirement already satisfied: plotly in c:\\users\\gabri\\downloads\\anaconda3\\lib\\site-packages (6.1.2)Note: you may need to restart the kernel to use updated packages.\n",
            "\n",
            "Requirement already satisfied: narwhals>=1.15.1 in c:\\users\\gabri\\downloads\\anaconda3\\lib\\site-packages (from plotly) (1.40.0)\n",
            "Requirement already satisfied: packaging in c:\\users\\gabri\\downloads\\anaconda3\\lib\\site-packages (from plotly) (24.1)\n"
          ]
        }
      ],
      "source": [
        "%pip install plotly --upgrade"
      ]
    },
    {
      "cell_type": "code",
      "execution_count": 71,
      "metadata": {
        "id": "ngO9WqKySWNJ"
      },
      "outputs": [],
      "source": [
        "import pandas as pd\n",
        "import numpy as np\n",
        "import seaborn as sns\n",
        "import matplotlib.pyplot as plt\n",
        "import plotly.express as px"
      ]
    },
    {
      "cell_type": "markdown",
      "metadata": {
        "id": "1VeMbjdRRME9"
      },
      "source": [
        "# Base de Dados de crédito\n",
        "*  Fonte (adaptado): https://www.kaggle.com/laotse/credit-risk-dataset"
      ]
    },
    {
      "cell_type": "markdown",
      "metadata": {
        "id": "DC_4u6PsT2Gt"
      },
      "source": [
        "## Exploração dos dados"
      ]
    },
    {
      "cell_type": "code",
      "execution_count": 72,
      "metadata": {
        "id": "Nt1GA3oeNHFw"
      },
      "outputs": [],
      "source": [
        "base_credit = pd.read_csv('dataBase/credit_data.csv')"
      ]
    },
    {
      "cell_type": "code",
      "execution_count": 73,
      "metadata": {
        "colab": {
          "base_uri": "https://localhost:8080/",
          "height": 423
        },
        "id": "ivHSb-5zXFTM",
        "outputId": "d1218a2c-da89-4eca-d02a-42eb4938b19b"
      },
      "outputs": [
        {
          "data": {
            "text/html": [
              "<div>\n",
              "<style scoped>\n",
              "    .dataframe tbody tr th:only-of-type {\n",
              "        vertical-align: middle;\n",
              "    }\n",
              "\n",
              "    .dataframe tbody tr th {\n",
              "        vertical-align: top;\n",
              "    }\n",
              "\n",
              "    .dataframe thead th {\n",
              "        text-align: right;\n",
              "    }\n",
              "</style>\n",
              "<table border=\"1\" class=\"dataframe\">\n",
              "  <thead>\n",
              "    <tr style=\"text-align: right;\">\n",
              "      <th></th>\n",
              "      <th>clientid</th>\n",
              "      <th>income</th>\n",
              "      <th>age</th>\n",
              "      <th>loan</th>\n",
              "      <th>default</th>\n",
              "    </tr>\n",
              "  </thead>\n",
              "  <tbody>\n",
              "    <tr>\n",
              "      <th>0</th>\n",
              "      <td>1</td>\n",
              "      <td>66155.925095</td>\n",
              "      <td>59.017015</td>\n",
              "      <td>8106.532131</td>\n",
              "      <td>0</td>\n",
              "    </tr>\n",
              "    <tr>\n",
              "      <th>1</th>\n",
              "      <td>2</td>\n",
              "      <td>34415.153966</td>\n",
              "      <td>48.117153</td>\n",
              "      <td>6564.745018</td>\n",
              "      <td>0</td>\n",
              "    </tr>\n",
              "    <tr>\n",
              "      <th>2</th>\n",
              "      <td>3</td>\n",
              "      <td>57317.170063</td>\n",
              "      <td>63.108049</td>\n",
              "      <td>8020.953296</td>\n",
              "      <td>0</td>\n",
              "    </tr>\n",
              "    <tr>\n",
              "      <th>3</th>\n",
              "      <td>4</td>\n",
              "      <td>42709.534201</td>\n",
              "      <td>45.751972</td>\n",
              "      <td>6103.642260</td>\n",
              "      <td>0</td>\n",
              "    </tr>\n",
              "    <tr>\n",
              "      <th>4</th>\n",
              "      <td>5</td>\n",
              "      <td>66952.688845</td>\n",
              "      <td>18.584336</td>\n",
              "      <td>8770.099235</td>\n",
              "      <td>1</td>\n",
              "    </tr>\n",
              "    <tr>\n",
              "      <th>...</th>\n",
              "      <td>...</td>\n",
              "      <td>...</td>\n",
              "      <td>...</td>\n",
              "      <td>...</td>\n",
              "      <td>...</td>\n",
              "    </tr>\n",
              "    <tr>\n",
              "      <th>1995</th>\n",
              "      <td>1996</td>\n",
              "      <td>59221.044874</td>\n",
              "      <td>48.518179</td>\n",
              "      <td>1926.729397</td>\n",
              "      <td>0</td>\n",
              "    </tr>\n",
              "    <tr>\n",
              "      <th>1996</th>\n",
              "      <td>1997</td>\n",
              "      <td>69516.127573</td>\n",
              "      <td>23.162104</td>\n",
              "      <td>3503.176156</td>\n",
              "      <td>0</td>\n",
              "    </tr>\n",
              "    <tr>\n",
              "      <th>1997</th>\n",
              "      <td>1998</td>\n",
              "      <td>44311.449262</td>\n",
              "      <td>28.017167</td>\n",
              "      <td>5522.786693</td>\n",
              "      <td>1</td>\n",
              "    </tr>\n",
              "    <tr>\n",
              "      <th>1998</th>\n",
              "      <td>1999</td>\n",
              "      <td>43756.056605</td>\n",
              "      <td>63.971796</td>\n",
              "      <td>1622.722598</td>\n",
              "      <td>0</td>\n",
              "    </tr>\n",
              "    <tr>\n",
              "      <th>1999</th>\n",
              "      <td>2000</td>\n",
              "      <td>69436.579552</td>\n",
              "      <td>56.152617</td>\n",
              "      <td>7378.833599</td>\n",
              "      <td>0</td>\n",
              "    </tr>\n",
              "  </tbody>\n",
              "</table>\n",
              "<p>2000 rows × 5 columns</p>\n",
              "</div>"
            ],
            "text/plain": [
              "      clientid        income        age         loan  default\n",
              "0            1  66155.925095  59.017015  8106.532131        0\n",
              "1            2  34415.153966  48.117153  6564.745018        0\n",
              "2            3  57317.170063  63.108049  8020.953296        0\n",
              "3            4  42709.534201  45.751972  6103.642260        0\n",
              "4            5  66952.688845  18.584336  8770.099235        1\n",
              "...        ...           ...        ...          ...      ...\n",
              "1995      1996  59221.044874  48.518179  1926.729397        0\n",
              "1996      1997  69516.127573  23.162104  3503.176156        0\n",
              "1997      1998  44311.449262  28.017167  5522.786693        1\n",
              "1998      1999  43756.056605  63.971796  1622.722598        0\n",
              "1999      2000  69436.579552  56.152617  7378.833599        0\n",
              "\n",
              "[2000 rows x 5 columns]"
            ]
          },
          "execution_count": 73,
          "metadata": {},
          "output_type": "execute_result"
        }
      ],
      "source": [
        "base_credit # defaulted"
      ]
    },
    {
      "cell_type": "code",
      "execution_count": 74,
      "metadata": {
        "colab": {
          "base_uri": "https://localhost:8080/",
          "height": 896
        },
        "id": "szZsRX-MvggU",
        "outputId": "d7e1f09f-abb8-471b-e852-db927c52816c"
      },
      "outputs": [
        {
          "data": {
            "text/html": [
              "<div>\n",
              "<style scoped>\n",
              "    .dataframe tbody tr th:only-of-type {\n",
              "        vertical-align: middle;\n",
              "    }\n",
              "\n",
              "    .dataframe tbody tr th {\n",
              "        vertical-align: top;\n",
              "    }\n",
              "\n",
              "    .dataframe thead th {\n",
              "        text-align: right;\n",
              "    }\n",
              "</style>\n",
              "<table border=\"1\" class=\"dataframe\">\n",
              "  <thead>\n",
              "    <tr style=\"text-align: right;\">\n",
              "      <th></th>\n",
              "      <th>clientid</th>\n",
              "      <th>income</th>\n",
              "      <th>age</th>\n",
              "      <th>loan</th>\n",
              "      <th>default</th>\n",
              "    </tr>\n",
              "  </thead>\n",
              "  <tbody>\n",
              "    <tr>\n",
              "      <th>0</th>\n",
              "      <td>1</td>\n",
              "      <td>66155.925095</td>\n",
              "      <td>59.017015</td>\n",
              "      <td>8106.532131</td>\n",
              "      <td>0</td>\n",
              "    </tr>\n",
              "    <tr>\n",
              "      <th>1</th>\n",
              "      <td>2</td>\n",
              "      <td>34415.153966</td>\n",
              "      <td>48.117153</td>\n",
              "      <td>6564.745018</td>\n",
              "      <td>0</td>\n",
              "    </tr>\n",
              "    <tr>\n",
              "      <th>2</th>\n",
              "      <td>3</td>\n",
              "      <td>57317.170063</td>\n",
              "      <td>63.108049</td>\n",
              "      <td>8020.953296</td>\n",
              "      <td>0</td>\n",
              "    </tr>\n",
              "    <tr>\n",
              "      <th>3</th>\n",
              "      <td>4</td>\n",
              "      <td>42709.534201</td>\n",
              "      <td>45.751972</td>\n",
              "      <td>6103.642260</td>\n",
              "      <td>0</td>\n",
              "    </tr>\n",
              "    <tr>\n",
              "      <th>4</th>\n",
              "      <td>5</td>\n",
              "      <td>66952.688845</td>\n",
              "      <td>18.584336</td>\n",
              "      <td>8770.099235</td>\n",
              "      <td>1</td>\n",
              "    </tr>\n",
              "    <tr>\n",
              "      <th>5</th>\n",
              "      <td>6</td>\n",
              "      <td>24904.064140</td>\n",
              "      <td>57.471607</td>\n",
              "      <td>15.498598</td>\n",
              "      <td>0</td>\n",
              "    </tr>\n",
              "    <tr>\n",
              "      <th>6</th>\n",
              "      <td>7</td>\n",
              "      <td>48430.359613</td>\n",
              "      <td>26.809132</td>\n",
              "      <td>5722.581981</td>\n",
              "      <td>0</td>\n",
              "    </tr>\n",
              "    <tr>\n",
              "      <th>7</th>\n",
              "      <td>8</td>\n",
              "      <td>24500.141984</td>\n",
              "      <td>32.897548</td>\n",
              "      <td>2971.003310</td>\n",
              "      <td>1</td>\n",
              "    </tr>\n",
              "    <tr>\n",
              "      <th>8</th>\n",
              "      <td>9</td>\n",
              "      <td>40654.892537</td>\n",
              "      <td>55.496853</td>\n",
              "      <td>4755.825280</td>\n",
              "      <td>0</td>\n",
              "    </tr>\n",
              "    <tr>\n",
              "      <th>9</th>\n",
              "      <td>10</td>\n",
              "      <td>25075.872771</td>\n",
              "      <td>39.776378</td>\n",
              "      <td>1409.230371</td>\n",
              "      <td>0</td>\n",
              "    </tr>\n",
              "    <tr>\n",
              "      <th>10</th>\n",
              "      <td>11</td>\n",
              "      <td>64131.415372</td>\n",
              "      <td>25.679575</td>\n",
              "      <td>4351.028971</td>\n",
              "      <td>0</td>\n",
              "    </tr>\n",
              "    <tr>\n",
              "      <th>11</th>\n",
              "      <td>12</td>\n",
              "      <td>59436.847123</td>\n",
              "      <td>60.471936</td>\n",
              "      <td>9254.244538</td>\n",
              "      <td>0</td>\n",
              "    </tr>\n",
              "    <tr>\n",
              "      <th>12</th>\n",
              "      <td>13</td>\n",
              "      <td>61050.346079</td>\n",
              "      <td>26.355044</td>\n",
              "      <td>5893.264659</td>\n",
              "      <td>0</td>\n",
              "    </tr>\n",
              "    <tr>\n",
              "      <th>13</th>\n",
              "      <td>14</td>\n",
              "      <td>27267.995458</td>\n",
              "      <td>61.576776</td>\n",
              "      <td>4759.787581</td>\n",
              "      <td>0</td>\n",
              "    </tr>\n",
              "    <tr>\n",
              "      <th>14</th>\n",
              "      <td>15</td>\n",
              "      <td>63061.960174</td>\n",
              "      <td>39.201553</td>\n",
              "      <td>1850.369377</td>\n",
              "      <td>0</td>\n",
              "    </tr>\n",
              "    <tr>\n",
              "      <th>15</th>\n",
              "      <td>16</td>\n",
              "      <td>50501.726689</td>\n",
              "      <td>-28.218361</td>\n",
              "      <td>3977.287432</td>\n",
              "      <td>0</td>\n",
              "    </tr>\n",
              "    <tr>\n",
              "      <th>16</th>\n",
              "      <td>17</td>\n",
              "      <td>43548.654711</td>\n",
              "      <td>39.574530</td>\n",
              "      <td>3935.544453</td>\n",
              "      <td>0</td>\n",
              "    </tr>\n",
              "    <tr>\n",
              "      <th>17</th>\n",
              "      <td>18</td>\n",
              "      <td>43378.175194</td>\n",
              "      <td>60.848318</td>\n",
              "      <td>3277.737553</td>\n",
              "      <td>0</td>\n",
              "    </tr>\n",
              "    <tr>\n",
              "      <th>18</th>\n",
              "      <td>19</td>\n",
              "      <td>20542.365073</td>\n",
              "      <td>61.690571</td>\n",
              "      <td>3157.442290</td>\n",
              "      <td>0</td>\n",
              "    </tr>\n",
              "    <tr>\n",
              "      <th>19</th>\n",
              "      <td>20</td>\n",
              "      <td>58887.357549</td>\n",
              "      <td>26.076093</td>\n",
              "      <td>4965.516066</td>\n",
              "      <td>0</td>\n",
              "    </tr>\n",
              "    <tr>\n",
              "      <th>20</th>\n",
              "      <td>21</td>\n",
              "      <td>23000.784002</td>\n",
              "      <td>31.761354</td>\n",
              "      <td>1148.118057</td>\n",
              "      <td>0</td>\n",
              "    </tr>\n",
              "    <tr>\n",
              "      <th>21</th>\n",
              "      <td>22</td>\n",
              "      <td>32197.620701</td>\n",
              "      <td>-52.423280</td>\n",
              "      <td>4244.057136</td>\n",
              "      <td>0</td>\n",
              "    </tr>\n",
              "    <tr>\n",
              "      <th>22</th>\n",
              "      <td>23</td>\n",
              "      <td>23329.319414</td>\n",
              "      <td>48.576975</td>\n",
              "      <td>222.622299</td>\n",
              "      <td>0</td>\n",
              "    </tr>\n",
              "    <tr>\n",
              "      <th>23</th>\n",
              "      <td>24</td>\n",
              "      <td>27845.800894</td>\n",
              "      <td>51.970624</td>\n",
              "      <td>4959.921226</td>\n",
              "      <td>0</td>\n",
              "    </tr>\n",
              "    <tr>\n",
              "      <th>24</th>\n",
              "      <td>25</td>\n",
              "      <td>65301.984029</td>\n",
              "      <td>48.840922</td>\n",
              "      <td>5465.267886</td>\n",
              "      <td>0</td>\n",
              "    </tr>\n",
              "    <tr>\n",
              "      <th>25</th>\n",
              "      <td>26</td>\n",
              "      <td>47451.630123</td>\n",
              "      <td>27.031741</td>\n",
              "      <td>5361.282716</td>\n",
              "      <td>0</td>\n",
              "    </tr>\n",
              "    <tr>\n",
              "      <th>26</th>\n",
              "      <td>27</td>\n",
              "      <td>63287.038908</td>\n",
              "      <td>-36.496976</td>\n",
              "      <td>9595.286289</td>\n",
              "      <td>0</td>\n",
              "    </tr>\n",
              "  </tbody>\n",
              "</table>\n",
              "</div>"
            ],
            "text/plain": [
              "    clientid        income        age         loan  default\n",
              "0          1  66155.925095  59.017015  8106.532131        0\n",
              "1          2  34415.153966  48.117153  6564.745018        0\n",
              "2          3  57317.170063  63.108049  8020.953296        0\n",
              "3          4  42709.534201  45.751972  6103.642260        0\n",
              "4          5  66952.688845  18.584336  8770.099235        1\n",
              "5          6  24904.064140  57.471607    15.498598        0\n",
              "6          7  48430.359613  26.809132  5722.581981        0\n",
              "7          8  24500.141984  32.897548  2971.003310        1\n",
              "8          9  40654.892537  55.496853  4755.825280        0\n",
              "9         10  25075.872771  39.776378  1409.230371        0\n",
              "10        11  64131.415372  25.679575  4351.028971        0\n",
              "11        12  59436.847123  60.471936  9254.244538        0\n",
              "12        13  61050.346079  26.355044  5893.264659        0\n",
              "13        14  27267.995458  61.576776  4759.787581        0\n",
              "14        15  63061.960174  39.201553  1850.369377        0\n",
              "15        16  50501.726689 -28.218361  3977.287432        0\n",
              "16        17  43548.654711  39.574530  3935.544453        0\n",
              "17        18  43378.175194  60.848318  3277.737553        0\n",
              "18        19  20542.365073  61.690571  3157.442290        0\n",
              "19        20  58887.357549  26.076093  4965.516066        0\n",
              "20        21  23000.784002  31.761354  1148.118057        0\n",
              "21        22  32197.620701 -52.423280  4244.057136        0\n",
              "22        23  23329.319414  48.576975   222.622299        0\n",
              "23        24  27845.800894  51.970624  4959.921226        0\n",
              "24        25  65301.984029  48.840922  5465.267886        0\n",
              "25        26  47451.630123  27.031741  5361.282716        0\n",
              "26        27  63287.038908 -36.496976  9595.286289        0"
            ]
          },
          "execution_count": 74,
          "metadata": {},
          "output_type": "execute_result"
        }
      ],
      "source": [
        "base_credit.head(27)"
      ]
    },
    {
      "cell_type": "code",
      "execution_count": 75,
      "metadata": {
        "colab": {
          "base_uri": "https://localhost:8080/",
          "height": 300
        },
        "id": "5dOwb_zHv0ec",
        "outputId": "d57fc0fe-5e1d-4cfb-d82f-0e8ddc83aeba"
      },
      "outputs": [
        {
          "data": {
            "text/html": [
              "<div>\n",
              "<style scoped>\n",
              "    .dataframe tbody tr th:only-of-type {\n",
              "        vertical-align: middle;\n",
              "    }\n",
              "\n",
              "    .dataframe tbody tr th {\n",
              "        vertical-align: top;\n",
              "    }\n",
              "\n",
              "    .dataframe thead th {\n",
              "        text-align: right;\n",
              "    }\n",
              "</style>\n",
              "<table border=\"1\" class=\"dataframe\">\n",
              "  <thead>\n",
              "    <tr style=\"text-align: right;\">\n",
              "      <th></th>\n",
              "      <th>clientid</th>\n",
              "      <th>income</th>\n",
              "      <th>age</th>\n",
              "      <th>loan</th>\n",
              "      <th>default</th>\n",
              "    </tr>\n",
              "  </thead>\n",
              "  <tbody>\n",
              "    <tr>\n",
              "      <th>1992</th>\n",
              "      <td>1993</td>\n",
              "      <td>30803.806165</td>\n",
              "      <td>23.250084</td>\n",
              "      <td>623.024153</td>\n",
              "      <td>0</td>\n",
              "    </tr>\n",
              "    <tr>\n",
              "      <th>1993</th>\n",
              "      <td>1994</td>\n",
              "      <td>54421.410155</td>\n",
              "      <td>26.821928</td>\n",
              "      <td>3273.631823</td>\n",
              "      <td>0</td>\n",
              "    </tr>\n",
              "    <tr>\n",
              "      <th>1994</th>\n",
              "      <td>1995</td>\n",
              "      <td>24254.700791</td>\n",
              "      <td>37.751622</td>\n",
              "      <td>2225.284643</td>\n",
              "      <td>0</td>\n",
              "    </tr>\n",
              "    <tr>\n",
              "      <th>1995</th>\n",
              "      <td>1996</td>\n",
              "      <td>59221.044874</td>\n",
              "      <td>48.518179</td>\n",
              "      <td>1926.729397</td>\n",
              "      <td>0</td>\n",
              "    </tr>\n",
              "    <tr>\n",
              "      <th>1996</th>\n",
              "      <td>1997</td>\n",
              "      <td>69516.127573</td>\n",
              "      <td>23.162104</td>\n",
              "      <td>3503.176156</td>\n",
              "      <td>0</td>\n",
              "    </tr>\n",
              "    <tr>\n",
              "      <th>1997</th>\n",
              "      <td>1998</td>\n",
              "      <td>44311.449262</td>\n",
              "      <td>28.017167</td>\n",
              "      <td>5522.786693</td>\n",
              "      <td>1</td>\n",
              "    </tr>\n",
              "    <tr>\n",
              "      <th>1998</th>\n",
              "      <td>1999</td>\n",
              "      <td>43756.056605</td>\n",
              "      <td>63.971796</td>\n",
              "      <td>1622.722598</td>\n",
              "      <td>0</td>\n",
              "    </tr>\n",
              "    <tr>\n",
              "      <th>1999</th>\n",
              "      <td>2000</td>\n",
              "      <td>69436.579552</td>\n",
              "      <td>56.152617</td>\n",
              "      <td>7378.833599</td>\n",
              "      <td>0</td>\n",
              "    </tr>\n",
              "  </tbody>\n",
              "</table>\n",
              "</div>"
            ],
            "text/plain": [
              "      clientid        income        age         loan  default\n",
              "1992      1993  30803.806165  23.250084   623.024153        0\n",
              "1993      1994  54421.410155  26.821928  3273.631823        0\n",
              "1994      1995  24254.700791  37.751622  2225.284643        0\n",
              "1995      1996  59221.044874  48.518179  1926.729397        0\n",
              "1996      1997  69516.127573  23.162104  3503.176156        0\n",
              "1997      1998  44311.449262  28.017167  5522.786693        1\n",
              "1998      1999  43756.056605  63.971796  1622.722598        0\n",
              "1999      2000  69436.579552  56.152617  7378.833599        0"
            ]
          },
          "execution_count": 75,
          "metadata": {},
          "output_type": "execute_result"
        }
      ],
      "source": [
        "base_credit.tail(8)"
      ]
    },
    {
      "cell_type": "code",
      "execution_count": 76,
      "metadata": {
        "colab": {
          "base_uri": "https://localhost:8080/",
          "height": 300
        },
        "id": "CQBzBX6kv6Js",
        "outputId": "8a6caeb1-0e20-4528-f221-ae45a920748b"
      },
      "outputs": [
        {
          "data": {
            "text/html": [
              "<div>\n",
              "<style scoped>\n",
              "    .dataframe tbody tr th:only-of-type {\n",
              "        vertical-align: middle;\n",
              "    }\n",
              "\n",
              "    .dataframe tbody tr th {\n",
              "        vertical-align: top;\n",
              "    }\n",
              "\n",
              "    .dataframe thead th {\n",
              "        text-align: right;\n",
              "    }\n",
              "</style>\n",
              "<table border=\"1\" class=\"dataframe\">\n",
              "  <thead>\n",
              "    <tr style=\"text-align: right;\">\n",
              "      <th></th>\n",
              "      <th>clientid</th>\n",
              "      <th>income</th>\n",
              "      <th>age</th>\n",
              "      <th>loan</th>\n",
              "      <th>default</th>\n",
              "    </tr>\n",
              "  </thead>\n",
              "  <tbody>\n",
              "    <tr>\n",
              "      <th>count</th>\n",
              "      <td>2000.000000</td>\n",
              "      <td>2000.000000</td>\n",
              "      <td>1997.000000</td>\n",
              "      <td>2000.000000</td>\n",
              "      <td>2000.000000</td>\n",
              "    </tr>\n",
              "    <tr>\n",
              "      <th>mean</th>\n",
              "      <td>1000.500000</td>\n",
              "      <td>45331.600018</td>\n",
              "      <td>40.807559</td>\n",
              "      <td>4444.369695</td>\n",
              "      <td>0.141500</td>\n",
              "    </tr>\n",
              "    <tr>\n",
              "      <th>std</th>\n",
              "      <td>577.494589</td>\n",
              "      <td>14326.327119</td>\n",
              "      <td>13.624469</td>\n",
              "      <td>3045.410024</td>\n",
              "      <td>0.348624</td>\n",
              "    </tr>\n",
              "    <tr>\n",
              "      <th>min</th>\n",
              "      <td>1.000000</td>\n",
              "      <td>20014.489470</td>\n",
              "      <td>-52.423280</td>\n",
              "      <td>1.377630</td>\n",
              "      <td>0.000000</td>\n",
              "    </tr>\n",
              "    <tr>\n",
              "      <th>25%</th>\n",
              "      <td>500.750000</td>\n",
              "      <td>32796.459717</td>\n",
              "      <td>28.990415</td>\n",
              "      <td>1939.708847</td>\n",
              "      <td>0.000000</td>\n",
              "    </tr>\n",
              "    <tr>\n",
              "      <th>50%</th>\n",
              "      <td>1000.500000</td>\n",
              "      <td>45789.117313</td>\n",
              "      <td>41.317159</td>\n",
              "      <td>3974.719419</td>\n",
              "      <td>0.000000</td>\n",
              "    </tr>\n",
              "    <tr>\n",
              "      <th>75%</th>\n",
              "      <td>1500.250000</td>\n",
              "      <td>57791.281668</td>\n",
              "      <td>52.587040</td>\n",
              "      <td>6432.410625</td>\n",
              "      <td>0.000000</td>\n",
              "    </tr>\n",
              "    <tr>\n",
              "      <th>max</th>\n",
              "      <td>2000.000000</td>\n",
              "      <td>69995.685578</td>\n",
              "      <td>63.971796</td>\n",
              "      <td>13766.051239</td>\n",
              "      <td>1.000000</td>\n",
              "    </tr>\n",
              "  </tbody>\n",
              "</table>\n",
              "</div>"
            ],
            "text/plain": [
              "          clientid        income          age          loan      default\n",
              "count  2000.000000   2000.000000  1997.000000   2000.000000  2000.000000\n",
              "mean   1000.500000  45331.600018    40.807559   4444.369695     0.141500\n",
              "std     577.494589  14326.327119    13.624469   3045.410024     0.348624\n",
              "min       1.000000  20014.489470   -52.423280      1.377630     0.000000\n",
              "25%     500.750000  32796.459717    28.990415   1939.708847     0.000000\n",
              "50%    1000.500000  45789.117313    41.317159   3974.719419     0.000000\n",
              "75%    1500.250000  57791.281668    52.587040   6432.410625     0.000000\n",
              "max    2000.000000  69995.685578    63.971796  13766.051239     1.000000"
            ]
          },
          "execution_count": 76,
          "metadata": {},
          "output_type": "execute_result"
        }
      ],
      "source": [
        "base_credit.describe()"
      ]
    },
    {
      "cell_type": "code",
      "execution_count": 77,
      "metadata": {
        "colab": {
          "base_uri": "https://localhost:8080/",
          "height": 81
        },
        "id": "v6tCfw-Mx9fS",
        "outputId": "8c877e2b-ade5-4ca2-8e2a-73fa6ba8ad8b"
      },
      "outputs": [
        {
          "data": {
            "text/html": [
              "<div>\n",
              "<style scoped>\n",
              "    .dataframe tbody tr th:only-of-type {\n",
              "        vertical-align: middle;\n",
              "    }\n",
              "\n",
              "    .dataframe tbody tr th {\n",
              "        vertical-align: top;\n",
              "    }\n",
              "\n",
              "    .dataframe thead th {\n",
              "        text-align: right;\n",
              "    }\n",
              "</style>\n",
              "<table border=\"1\" class=\"dataframe\">\n",
              "  <thead>\n",
              "    <tr style=\"text-align: right;\">\n",
              "      <th></th>\n",
              "      <th>clientid</th>\n",
              "      <th>income</th>\n",
              "      <th>age</th>\n",
              "      <th>loan</th>\n",
              "      <th>default</th>\n",
              "    </tr>\n",
              "  </thead>\n",
              "  <tbody>\n",
              "    <tr>\n",
              "      <th>422</th>\n",
              "      <td>423</td>\n",
              "      <td>69995.685578</td>\n",
              "      <td>52.719673</td>\n",
              "      <td>2084.370861</td>\n",
              "      <td>0</td>\n",
              "    </tr>\n",
              "  </tbody>\n",
              "</table>\n",
              "</div>"
            ],
            "text/plain": [
              "     clientid        income        age         loan  default\n",
              "422       423  69995.685578  52.719673  2084.370861        0"
            ]
          },
          "execution_count": 77,
          "metadata": {},
          "output_type": "execute_result"
        }
      ],
      "source": [
        "base_credit[base_credit['income'] >= 69995.685578]"
      ]
    },
    {
      "cell_type": "code",
      "execution_count": 78,
      "metadata": {
        "colab": {
          "base_uri": "https://localhost:8080/",
          "height": 81
        },
        "id": "HnfPNpuvzTri",
        "outputId": "d0459165-6765-4975-ee1e-78078a980df5"
      },
      "outputs": [
        {
          "data": {
            "text/html": [
              "<div>\n",
              "<style scoped>\n",
              "    .dataframe tbody tr th:only-of-type {\n",
              "        vertical-align: middle;\n",
              "    }\n",
              "\n",
              "    .dataframe tbody tr th {\n",
              "        vertical-align: top;\n",
              "    }\n",
              "\n",
              "    .dataframe thead th {\n",
              "        text-align: right;\n",
              "    }\n",
              "</style>\n",
              "<table border=\"1\" class=\"dataframe\">\n",
              "  <thead>\n",
              "    <tr style=\"text-align: right;\">\n",
              "      <th></th>\n",
              "      <th>clientid</th>\n",
              "      <th>income</th>\n",
              "      <th>age</th>\n",
              "      <th>loan</th>\n",
              "      <th>default</th>\n",
              "    </tr>\n",
              "  </thead>\n",
              "  <tbody>\n",
              "    <tr>\n",
              "      <th>865</th>\n",
              "      <td>866</td>\n",
              "      <td>28072.604355</td>\n",
              "      <td>54.142548</td>\n",
              "      <td>1.37763</td>\n",
              "      <td>0</td>\n",
              "    </tr>\n",
              "  </tbody>\n",
              "</table>\n",
              "</div>"
            ],
            "text/plain": [
              "     clientid        income        age     loan  default\n",
              "865       866  28072.604355  54.142548  1.37763        0"
            ]
          },
          "execution_count": 78,
          "metadata": {},
          "output_type": "execute_result"
        }
      ],
      "source": [
        "base_credit[base_credit['loan'] <= 1.377630]"
      ]
    },
    {
      "cell_type": "markdown",
      "metadata": {
        "id": "Hf1Fl7zo0ru6"
      },
      "source": [
        "## Visualização dos dados"
      ]
    },
    {
      "cell_type": "code",
      "execution_count": 79,
      "metadata": {
        "colab": {
          "base_uri": "https://localhost:8080/"
        },
        "id": "-sbHXCaR0vkk",
        "outputId": "bbaf9330-0d2a-497c-e622-d0fbb45a711a"
      },
      "outputs": [
        {
          "data": {
            "text/plain": [
              "(array([0, 1], dtype=int64), array([1717,  283], dtype=int64))"
            ]
          },
          "execution_count": 79,
          "metadata": {},
          "output_type": "execute_result"
        }
      ],
      "source": [
        "np.unique(base_credit['default'], return_counts=True)"
      ]
    },
    {
      "cell_type": "code",
      "execution_count": 80,
      "metadata": {
        "colab": {
          "base_uri": "https://localhost:8080/",
          "height": 449
        },
        "id": "BTvTqk_K1IRC",
        "outputId": "9eb493d4-5f56-406d-f4ac-2b957889c050"
      },
      "outputs": [
        {
          "data": {
            "image/png": "[encoded data removed]",
            "text/plain": [
              "<Figure size 640x480 with 1 Axes>"
            ]
          },
          "metadata": {},
          "output_type": "display_data"
        }
      ],
      "source": [
        "sns.countplot(x = base_credit['default']);"
      ]
    },
    {
      "cell_type": "code",
      "execution_count": 81,
      "metadata": {
        "colab": {
          "base_uri": "https://localhost:8080/",
          "height": 430
        },
        "id": "xCL8QIzd1sAk",
        "outputId": "e64fc637-5389-4f65-fa8e-0112f6e8ef3f"
      },
      "outputs": [
        {
          "data": {
            "image/png": "[encoded data removed]",
            "text/plain": [
              "<Figure size 640x480 with 1 Axes>"
            ]
          },
          "metadata": {},
          "output_type": "display_data"
        }
      ],
      "source": [
        "plt.hist(x = base_credit['age']);"
      ]
    },
    {
      "cell_type": "code",
      "execution_count": 82,
      "metadata": {
        "colab": {
          "base_uri": "https://localhost:8080/",
          "height": 430
        },
        "id": "0UWUfLLE2yOF",
        "outputId": "1246002f-4d4f-4b22-8be6-362b383ec248"
      },
      "outputs": [
        {
          "data": {
            "image/png": "[encoded data removed]",
            "text/plain": [
              "<Figure size 640x480 with 1 Axes>"
            ]
          },
          "metadata": {},
          "output_type": "display_data"
        }
      ],
      "source": [
        "plt.hist(x = base_credit['income']);"
      ]
    },
    {
      "cell_type": "code",
      "execution_count": 83,
      "metadata": {
        "colab": {
          "base_uri": "https://localhost:8080/",
          "height": 430
        },
        "id": "K2f_9qZq5jDC",
        "outputId": "4d87c994-c51f-4af9-ca15-5599c9ddca64"
      },
      "outputs": [
        {
          "data": {
            "image/png": "[encoded data removed]",
            "text/plain": [
              "<Figure size 640x480 with 1 Axes>"
            ]
          },
          "metadata": {},
          "output_type": "display_data"
        }
      ],
      "source": [
        "plt.hist(x = base_credit['loan']);"
      ]
    },
    {
      "cell_type": "code",
      "execution_count": 84,
      "metadata": {
        "colab": {
          "base_uri": "https://localhost:8080/",
          "height": 542
        },
        "id": "h2aW48XT6tl-",
        "outputId": "b555783e-d71a-430c-b876-241e3b3511e4"
      },
      "outputs": [
        {
          "data": {
            "application/vnd.plotly.v1+json": {
              "config": {
                "plotlyServerURL": "https://plot.ly"
              },
              "data": [
                {
                  "dimensions": [
                    {
                      "axis": {
                        "matches": true
                      },
                      "label": "age",
                      "values": {
                        "bdata": "BQC6jC2CTUD6/3jf/g5IQPj/1JDUjU9ABwBKoUDgRkAHABAKl5UyQPr/HJ9dvExA+v9dTSPPOkD//wXd4nJAQPv/L92Yv0tAAgArW2DjQ0AMAICm+K05QAUA42RoPE5A+P9vJ+RaOkD6/0jK08lOQAQAMnzMmUNA8/8Nh+Y3PMAEAOQ1islDQPn/pq6VbE5AAgD3nmTYTkALAADVehM6QA0AYBvowj9AAwBSCS42SsD5/zBN2klIQP//HGk9/ElABgAWU6NrSEACAMwyIAg7QAEAxeScP0LABQAcj4LrS0AAAAAAAAD4fwUA0rpmQUtAAAAAAAAA+H8AAAAAAAD4fwcAAljiEENAAQC+K6xUQ0ABABDIBFZCQAMA2gKyqjRA+/+fpa4XTUD5/27+zBxJQA8AMrIs1zJABQA7nohWQEAFAKTWxnJAQAYAPDYWUk9A+v+Q6iyFSED8/82+mEA5QP3/B/0zqUdAAQC2MUohMkD8/1z0F6BHQAAAr5RZC0lA/v8iRuD2TEACACdqdCdHQP7/4Rm12kFAAwDIkP0+PUD+/yzsyXpLQPn/EzWH20dA+/9aQOWuSED7/+95kAxJQP//j1qRcTdABwCsWPH3P0AJADgtb9Y0QAQAlbuEbEJA/f9BJF7fSkAAANn62PhHQP7/mvULA09ABAC6ksg8QUANAC6yhhs5QPn/Eux6w0RA+v98BkJFTkAHACQe+j02QP7/f9pCmTVAAgCE8XHISED+/8vDIjFKQA4AhP9rNzVA+f9mBnCXQEAEAAkKsWlGQPj/aXQ7mzxA+//+7KeBSUD6/9L79SROQAQArmn4bExABwCVOVmdTkD+/10elwlJQP3/IbBb6kVA//83ZHXrSkADAG6mk4NFQAoA9sHLCThA/f8zRAbUQEAIAEDCAsczQPj/t/vElTlAAwAcAWM2M0D3/1dizI87QAwA2tg4EDlA+v9U1m+4TkADAF4su6pNQPz/FNdIP0xABgAFbpCwT0D7//k/365LQAIAVkHs1jxACAB4vb+VT0D9/8/AK95PQAgADluZPTRABgBgxPEtOEAFAOVFZlNCQP//c6r3/EdAAwDq4Bf2SEAKAAoZX7U5QP3/4sHd00ZABAD/V74lRkADAGb09+g9QAYApVKgXkFA/v95KlMoRkD9/zBSy8FBQPX/7/4FhDNAAwAmjRmGSkALAOYfwv00QAkACqosPD1ABABLJo9UQ0D9/3C0/7tHQAYA7ypq1k1ACgAolPWVOkAEAHV8PEtDQAoAdruO5z1ABADK+sSrQUDz/yNtadI3QPT/Z0duUz1A///7LgJgNUD//6mGOHoyQAIA1LQviTZA9//VMLLTNkD7/7Y68cJNQP//cySXtEpA/v9hqX9gR0AEALYg2olGQPb/4YKLYDhA/v+L8UpsPUD6/9XenqdKQAQAnybhPEBAAwCvuigsSED+/4gliMpKQAYAmsB5yDhA//95otkOQ0AMAFIlKzU1QP//WzvPkTZA+f/7+6WnQkAOAASnNDE6QAEACL1vHklAAAB2SzKGQ0D7/3fu+xk6QAYAxMyvbU1AAwDnl7CTSED6/1VpM0NOQPr/kBCdakRAAAB2k8zgTED7/wHKNQZGQP///Kp3lUlA/P+F9bccPUD//xDRZjxAQAYAO4y8E0dA+/804gaeS0ANAHzz3ug7QAYA0sOJjUdA/P9+fUq1REAEAOEtmixNQAwAEGL2FD9A/P+vqMxDTkAAAL+5zY5AQP7/dcqc3ztA//8m2HPrRUAGAP5SIkw9QA4AnJXYGzVABQDlEBBqRUD7/8f9Yfg8QAIAzUr08kpA+v9tOXgzTkAGAEWz+LFIQP//rUHdQElA+v9EedvcRUD+/0BnKLBPQPz/YNtfykxA+/8adfSBQEAIAGYGbpw3QPP/SyhKoTNADACKLCG5OkD8/yQeK3hGQAUA5fj9uklAAQCRDipCTkDy/6neaJU0QPj/F5bGCjpAAwD1SVUBS0D9/0mIwFxMQAQAu7tbzEtAAQDbJOrGRkD+/z3udBI9QAAAzh8kS0pAAwC9qFocRkAGAGH1L+9KQPr/MOceY0ZABgB23AXHN0ACAAyZCtlKQP///Zg9pzxA///HvTG3QED//5+Nv9VKQAIAP3dTNkpA9//lG/Y0OkD9/xIXZKNCQAYA15+WOE9AAwBM6xdyPED7/65+BflCQAMAFT8uw05AAAAyeehWR0ABAKF10k9IQAIAftZQBkVAAQC4lTtjRUD8/3itYRNMQAEAwnqb7T9A9v+NqJF2OUAAALZnjYNCQAUAk8XZs0pA//+D0XApNEABADpJVH1JQP7/tGdMoU5A+f+6VYsbQkD9/1qsAnhOQPr/axinmEtA/v80dIehREAAAM7a1nZJQPv/MrU0rURACwCkx0JNO0D3/wV/4eg/QPv/GvIMCkhA8/+z1mQ6NEAEAHj1D+s2QAQAEOt2JkpABQAqdtGlR0D9/0p/SntIQPP/PwqvgzlA+/+a2bRRTUAKAFRpc3w2QP//+veAe0tA+v+4K2a2RkAEAH8NIfdMQAMA5kDytU9A/f/id1bESkANALQ+kc07QAAA8QccOURA9v+L0J9lMkD5/+uFz+U1QAYA17gUs0JAAQAC99o0SUAHAC6WhFxGQPj/OeVoTzpA+v/6EFVVTkD2/7Mqj8c4QPn/0IBzPk1AAAChP6ilSUD9/zOpsN5DQPz/fLCIgkZA+v97Or7OSkABAFO11MFFQP//K6tsnEtADgAKLLbrPUAHACkZmFVCQAMAhrRqDU5AAQA5YJiwTEADAHGw3ENLQAIAxLHhaz1ABgBFXayAR0ADAJ5r1QJPQP//xwCGikpA/v9br3ArSkAHAMseLYFDQP//IroYxktABgCU1BhsREANACRD3Cg5QAEAM+TiDUlABADUrvg8N0D8/wxk30xMQPP/ZfwnmjlABwBPqcePRkAKAHJZ09EzQPb/sRL+aT5ABADJlJCDSEABAAIPZdJMQPv/Enhxn0BABwC7uSnLS0D9/xJf+v1OQP//5PTlM0RAAgCd9ZkASUAAAA8mK/xEQPz/aH04OUdAAwC2WHYPSEADAKm0fI9GQAMArwAeZ0RA/v9aVXHMRUD//+wrYa5KQAEAiEWr40JAAwDqUFe3M0D6/6kKCaU2QAEAOSIm2kdABgAAcNl+NUD7/+8LtthJQPL/r5GhBTVAAwBf++OVS0ACANayyUZAQAEAHF1q80xA/P92kfauS0AEABaeHyhJQAsA5nqUFDtA/v9F0BQlNUD7/7Jj0IBAQAwAXCsFTTRA/f+H4jYAT0D//7Qx2clKQAQAMo9U90lA+f+YSJGkQkD7/2hRHvxHQAYA1hbnN0pABAB4IMZPS0AFAHQhPEpHQAkAZCjV3TlADQBSKMwCNEAFAEv3ckJNQAQARlOqJUFA9/+Zg2RINUABAHkT05hFQPr/qyYI+k5A+P/Q4F8GT0D8/6GZOIk+QPv/N52OwkZABACaTqLyQEABAJUlLrVDQAIAzSSIC0VABQCoV/8aNEAAAN+uznRIQP7/8TAT4EhABgA9OiEaSUADAA66T5A6QP//1Zyxb0ZA/v+AANg2T0D//zBA37dNQAcA8KOaa01ABADoiDc+SkAFANmY4lBLQAMALiCAmEdAAACQBWniO0ADAES3nao6QP//rHeeekxAAQCSWY9EPkAGAKyHyXtKQP7/0vHUrUlABwCEKhSCSUAEAEbqWfIzQAEAanhyXU5AAwAsrgAxSkACAJXlkjNAQPj/R+uQ1DJA//8VFcMnPED9/6a8qoFFQAQA0VosYEVAAQBR7210T0AAAID7oyRAQP7/pM4GBURAAAAZSt6kSkALAKaQQjQ4QAUACENvEDtABgDJFFp5S0AAAGVrGXNKQPv/1kLC505ABwDgQTB+NkD6/9AMYkNJQAYAbLy8oTxAAwDTBPSESkD//wwEct5CQAAA5iCe3ktA/v99h1hrSkABABTh7bZLQAAAtm98n01ABwCutT/GPUAAAF66y5g/QAQAmVaga0xABQDg15d+Q0D7/82Mw8tBQAUAMeL1vUBA//88w+QnTED7/wSInt1GQP//Ohs3QkxA/v9E8WzGSkDz//d6kx09QP7/P99pJ0VA+f9uJ1oIT0ADAN2nk65IQPz/1npViEhA+f/I9oiCSUAGAAVFg2xEQPL/Y6jBgjdABwBAwVaDN0D5/zFcpiM/QAEAXcUu0UxACgAM9683PED//4SiRtRIQAcAaR0Ra0tA/P+9VcNPN0ACAK4biGdGQAEAYmFYmkpABwC4H7ypMkAGADNAgAZHQAcAkJll9k9A9f/bRgH8NkAAAF9ML8VHQA0AlGgJlzxA/v8csoDhR0D6/6vENodJQP7/VLV0GkZA/P8Q55QzSUD0/wE2SRMyQAUAiooKgk9ACAC6kvc/PkAIANKljAU7QP//9PyV40JABQASq1LgSkAEAO3rLEBCQAIAFQp0+EVABgAl26t0REAHADaJQzA8QAEAdEAeXEpA+/9eICanRkD//8IyBw5IQP7/jPxkMkFA+f8xwfiBQUD9/+1hztcyQPv/n4ji1jlA9v/hzIZCOUD6/5nxCWJHQP3/puWbBUlA9v+LdhlrOEAOADaamGo5QAgAGACX2ThA+v9pT0s6QEADAJXMQ/pDQAEAOQ96NEZAAwAxPol7RkACAALxP1BMQPP/yWN60TxA/P/cBoYHTkABALX7WYBHQPz/2KSauExA9/+jeesjNEAFAPjWWJNHQPL/ZYm7tTRA/v8RncL3SkD//6UQTJNLQAkAokBP2DhAAwBDR2H7Q0AAAJ7fRuNBQAcA/DbvgztA9//XvXxTMkANAFp5juM+QPn/H6Jn60dA/v8BAfwqSkAFACcy6KNAQPT/7U75YTpA/f9gYnzmT0ACAJSMS3dFQAMAiThrqkdA+v+0eDTaQ0D//7LPHB1DQAQAtkvk7jtA//930upQTED//23M8DRAQAEAgqQGXkVAAgDSvvRLNUD8/03mch5GQP//Uu7QSE1A/v+h1jkuREAEAMQS5hRAQAwA5qgD6DVAAgAuLt60SED2/0X4G18zQP3/UIqICUJA+P8XlK1fTUACAC80HpBLQP7/FWjeq0pA/f/VIdZQPUD8/3GCWC9PQAsA1DLSoD5ADQAEKlSHMkD9/zMGrGBOQAYAzqKtGDRA+v+r00DCPED5/8OA56FLQPz/x7tBREBA8/8TP0W8PED0/3uvNaA8QPz/bEiIdUdACwAgqzJGNUAFAALHmYBIQAQA1teAl0dA9v8X196mOkD9/+/piidLQAkA3LN1uz9AAgDqh6K9TkACAE7lhF81QPb/tTOO8zdA/f9RTeTGRED+/5lpe31EQAUA7HOMVUFA/f+LJ4IyRUD8/3BnE0hCQPz/jut1p0dAAQB0+O/oRED8/79hk9JOQAIA1XKFSk5A+v/NcUB8QkADAEQZ2007QAsAIPiOoTtAAACWhRTjSEAGAF1ClvNLQAIAXmzilkdAAgDN7WiJQED//3OXm4Q5QP//q3GSwkxA+f/p+CzEOkAHAJSWriVPQPf/S+eBfjpAAwD8TlIgQ0D7/5fkTPk3QAwAZARFnjlABQCkD8vbS0AEAFJNHu1NQP//yZvmJktA/f/DpGGWNEAGAFWeeMlGQPr/drE0F0tAAQBqyfTxRkAGAORH1fhJQPj/VfowiDxABwAMH0J/M0AMAHgoexA5QPv/pqh6Q01A/v9jMGzCS0AGACP/d7JCQPr/6DvLkklA+/+K9dsoSUD6/4wQI7pEQAYAUi+14kFAAgBQ/2oLSkD1/yd1jmoyQAUAYQcwBUNAAQD42O5xRUD0/z0lw4c7QAcAx6a8xUpA9//J0kdNOUD7/xdS0RZAQAMAdGpbf01A+f8hYe/fNUD7/81HPmtMQAMAwAQyWTZAAwBYcjMjRUD6/2Nj2ihPQPv/CM9mrk1AAACIG36ER0AGANsLXt1IQAkA4jtA8DtA///aUJE6Q0AFAHtrjsVKQPz/7pRtDUtABgAnSx7RTUAEAI+pw+dFQAYAx4ro9kZABADvEzFBQED9/+NDKmpPQAEA9bhQ10BAAwDmmbMnPEAFALKut4hHQAUAqk8jdE1ABwARshc4R0ADALGsgQdBQAAANyRsxUtA+//3iuduO0D7/9KBRrNPQAEAYs/OdE5A+f/wtqOzSkD5/x/pFeMzQAYAXi6PqTVA+f9ViEgBQUD6/5VIAE4zQPv/1hzKJklAAgBwbPJBNEACAIS7omhLQPn/06I+MjtAAwC2PnvTQUD8//8sgAdIQPz/jcQL+UBAAAD3WpQtRkAEANkY1RhMQPv/t6YcdztA/f8yamiMTEALAKaq2aUyQAIAAhJCNEJA9f9H+r9kOED7//IPAPBEQAAAX1GZnEdABACIAAakQ0D//ylAePhEQAYAFQ8FqE5A/f9GDxWSSUAEAM9rXB9AQPz/TJi8EE9ABgB9TVx5T0D9/1XOUNZKQPj/+cPPwz9ACAAidI/8N0ALAO47WkM2QAMAzw15xUJA+//FnjauS0ACAApbZcVMQAYAp97Cp0hABwAN2f1hRUAEAGRN3opEQPz/fBecTEdABwAxzoRXQ0AAAK66O/9EQP3/RjXJJkRAAAD4Su/BT0AAADiv7MFIQPn/gq3tPkNA/f/jnPeKNkD+/4pBZ3VIQAUAfftlOUtA+/8VVbM4QUAAAGoHdxM3QAMAqOrd7EBABACx3D02SUD//2X5qrg1QAIAJkXPLEJABwCl4iD3SkACAAwMr+xLQPr/HbqCq0hACwAUZcr7PkAAAHb8ZExAQAwALmpAVDNA/f/rprDRSkD//4MnoXJJQAQAXxE9WE9ABgCk9NLSSUADAExzkZ9HQAgAWIuUhzlA/v98s+lVRUD4/y/F1xQ3QPr/6ROQoDpA9v+t9qshO0ANAHxyFPk3QAcALU2o20FA/P8wPt+2SkD8/3Aa9w1GQPz/JetKsj9A+f+hXjSbS0ACAAaej2s1QAMAFMR0Ck1A+//9ygc6RkD8/4WWG5xMQPv//aZIlEtA/f878s8ZT0ABAL9jtUVOQAQAsxXVM0VAAgDyFnMuN0ABAAiUEq9KQP3/aAQdfUhA//+znhWLQUAKAEyviFk6QAAA1jtQREpAAgBvCWNTSED8/9onsbFJQAEAlczsdUNACQDKQNXOO0ACAPCG39tEQPL/gf3Paz1A+//fHDhwQ0ACAJjYWUxBQAEAgL3NrzhAAAAfjXdQRkAEAJZf9/ZAQP7/g0PtKEhA+/8LqIrRPED+/zj8kmJPQPz/jQIK0E9A/f+BbgS8REAAAM5Xk/FFQPv/JBnl80VA/v+D0Ki+SUD//69sIu1EQAAA2dBnvE1A+v9UxE/aTED7/2Jrg7BKQAYAbc7JsU5A+/+jC9B1QkAJABhvOT01QAkADo/P+zZA+f/Jes7sOUD3/2l9S08yQAYApxZCHEFA//90I+xPRUD8/7Xamq9OQAcAxOXdpj5A+v/trieNOkD5/8gVBsNFQP3/1tNq5kBAAQBTm0kwRUD//76i+KdPQAQAko/NQzhABQDTMXrxRkD9/1eGyW9EQAQA9njOXjtAAABf0mP6RUD5/8fkS7U9QP7/jOsxpkFADQBsnwJaOED7/3uWlERHQPv/pLtnT0tAAgCXy1LqQUACAFbPyxdIQAgA1Xp7gE1A//+CoOq4SkD9/4mOan9MQP//gwafo0xA/P8fFtybQkD6/z7/+iVEQP//xKmo1k1A//+YNE8uQEAIAGaock05QPn/o8Il6ERA/v8YLSoqR0AFAKEMiZJNQAcA7m1YjDlAAACK2HzSRkADAJAaQUZEQP3/atF6DEVA9f+TgJ6POkD7/yVo1DRGQAEAmZULBExABADx6CEyQED5/8jjZMpLQPj/LUl0mDlAAQB1x4TbQ0D6/yGMzR5IQPr/Cd66I0RA/f+hOE/bOUD8/yWBuj9GQAEAwD730ERABwDgNZ8IPUD+/6Lhb4lHQAYAEvs7Qz1AAgAoRxMrNkAHAM7v3VNOQPr/rD/MQ0ZAAwBYBNVMNkD8/37OAJdJQPz/BN3ZM0FABABP6qsKS0D+/1vEiTZNQPT/tV0AHDZAAABuNpFITEACADu6HetOQAAAB3YE1UJA+v+aaionQ0AIAH4WAqg5QAEAFsKXwD5ABQAg/oaaRUAEADvNOONHQAMAASwztUZACwDuyBUgP0ACABqh50FBQP7/CZvFMURA/f/zzlV4S0D9/5D4vY1KQPv/6nJBMkZAAACvjaLZSkABAPw3YdtIQPz/1LlgI05A/v9bfI8mRUAGAGWThLVHQP//tjooSk5AAACu+PnmQED//zrUTNZIQAcAAI0NjEFAAAAj+/9RSkAEADbqTFg2QAAA0zrzhENA/P9tBrpZQUAIAF7UaJo/QPr/KALWnkRA+P+dqp71M0AEAE5jQVQ5QPz/k/imSERADgBUGemiPUAGAPIKUb5NQAMAQt7qRz5A/f/ypSrqRkD+/whCithNQAQAQgB1G0BAAgCDd3A0TEAFADoLSfhJQPv/+8oM6DlA/v8EchxjREACAJLWmzxAQAIAN28znUpABADD5FQ9R0D+/9yoTZBHQPr/jDnk7EFABwAVGX0HQkD9/zKvLdpNQP//VjRhmUpAAQCSwNb4REAEAAKeVMdIQAQAnlVPR0ZABQDxmkRKTkD4/90nmmVNQP3/84u98jxABgDuB0atPkAFAIo5xMlMQAIA3mSt7UtAAwA4VjIAP0ABAOwQ8IRGQPb/2aFsHjRA/P+sRqIVR0D5/84okx9KQAQAeBbutUdAAwDsdLmeRED9/+Mzm7NAQAMA5bJ0EU9A+//HWGDgR0D9/04a/mFMQP7/ERAn9jZAAwC5i1S+TED6/1ntpGVNQAUAnLOjMD1AAQD6uwkRRUADACyeOVVLQPv/kwRkDEhA/P9FDZdcQUAJAKYkdo80QAUAMqysjD1ABgDEeKglOUAGADyPNwlAQPr/TB/yGERABQCwovtUS0D5/yAHQBVOQPv/35gc70xAAQDAMPn5OUAHAPC2mnRLQAAA5SzdLEFADgDUfTkgN0ADAMk0UP1BQAIAHw09MktA+f8bFeaCTUAOAHZlvbs8QPr/fNIbdUVA+/8hUSSTR0AEAFcNexFNQAEA5h3APEBAAgBTJN/6TkAEADYL18k4QPj/i90fsjJA9f+J4RdfOED5/9sNOHw+QPP/r4zTnTxA//8zqIPcR0ABADIFPxJLQAYAO3tlvEFA+f8DDlaiQUD6/5n2T5NEQPv/G4IfszVAAABy1rLaNUD6/yDyyvJKQPj/0Q0VvTZA///dxIbMSkD8/y2p8y9CQAUAAV1LvEZABABfW/AkSEABANWFAWZFQPn/VXdxJTZAAQAMU31qR0AEAFAKm006QP//6/X0TkRAAQBM6Ud8TkD9/1OcNGRFQP3/+N57JEhA9/99vtGVNEAEAIaDBU09QAgAzJrqezZA+v+VHWY9QUAOAEyhJco2QAAA+760RkJA+v8ImmB0RkAEAONB2vhDQPv/E1/QMkBABACVpHK+T0AGAHDAWFZCQAQA7nWUAUdA/v+rkMPuNED//01W3a9PQPv/1/76w0RA/v/Qo5wKSkABAEhrmCIzQPX/Z/sNnzJA/v8U4W94TUAFALIaCc07QP//L0nF3kJAAQB7rKbHQED+/wJdKNpBQA0AkiMdljlA///LW5baOUAEAApAJTUzQAEAFEZQz0JA9v/1lQIOOUAHAA4aCzlGQAQAsIw+gUtA+/++KAaUS0AEAHqCCnNIQAwA2sSIXD1A/f/J8OakS0AAAEG0HIRGQPr/gipOME5ABgBNIDunSUD6/1tifWU9QAEAEyPMr0lA+f/PjQNQT0AAAJNe83lDQPv/16IEPUdABgCLeBhxRUD8/wd7UZhPQPn/E4atZzRACQASQNQbPEAGADP4yQhLQAEADUHjIUtAAAAs3tXfMkABAAYdSfFPQPr/enXBa0VAAwAf1/0KSkAEAOZI5RQzQAMABF9FrkFA/v9riyYmQkAAAMoT6R5JQAUA3lpMZ05A/v9uUCL3T0D9/8tBmNFIQA0A6DHE9TxA+//Qaa0tQkAAAOCe2asyQA4Awqa+SjtABAAHkFq0S0D+/8dA4cJBQAEAQg9Q/jtA+f/AUtN0QUD+/53d9g0/QAMAPZoilENABQCEeo5OPED0/6fjCmQ/QPv/rR0PKk9A/P/vi0PYQED3/1V9cEg3QAMADmC9oUxABgDGyV1TSUAGABKuTzozQAAAUE8dlU5ACABU6+bNNED4/6zfJ9lLQPr/g/uv/TRAAAB4fdp8N0AIAGjTR4c7QP//c1SbKEtABQCFdLGLQED9/6elnvJFQP7/zRZpv0pABQBq5LLwRUD6/1Fj3q5LQPv/1XZaU0BA/v9Ng6xZPUAEAOyDy0wyQAgAbMR7IDRABQAJeSNJTUABAPXgORlPQPn/Itf210ZAAwAOl6DaOkAEAMyKNAo0QAgA6ugVojpA9/8PL19mPkAEAFFJH81BQP3/S4QmtThA+v8L7DvpNkAGAKxgbZo1QAoArJFoPjhA//+8AIEDRkD7/9RRTQ9NQAQAM0jwLEhA/P9t51TdRkD2/3PgzDU7QAUADhpDxklA/f/SIu7EQUAEADoiK+ZDQAcAnNsDZzVABgC2Q0CaM0AFAHidCs1EQP3/c52WEkBA/v8N/UhBTEAGAM/QsqlIQPP/BcRjYTVA8/9RA+ghM0D9/yq3PFBKQPv/N70HczpA+v/1VUKRQUD8/1brjmlEQP3/Wnb7g0BA+v9zEJx4TkAOAMzti/A2QPv/bMb1Z0BACgAsNPtwN0D3/3W/Qd02QAgA3kJNLjdAAwCQQ/ItT0D6/8F1Z5U2QPv/VeJRhkZACgBaEqCMP0D9/4FkJPo9QAcAFKzhLUhA/v/l7fyFSUD9/5n6vINJQAYAjssfOjhA/P9NB0GxT0D///ZGyM9KQP3/u2UeL0RABAAiQ1u6SEACAOW2xlBMQP7/sd5FS0VACACS1+b/PkAGABwImZE5QPn/oahrt0lA+f8iXafhSkACAAyx3NdMQAUAmd1A+ElA+v8Bo1VcS0D9/1MzZE4yQA0AAOo2bDVABgB32xpKQ0D8/6Sya3NEQP3/970MlzdA/v98Tn8WSkAEAPaVWtFHQPz/I0i7VD5A+/98NRFUS0D6//yaplVBQP7/zjLmJ0JABQDV8toGSED5//Qj0NBDQAIAh+xPMUxAAQDIt/6/SED4/7TxOx9DQPv/xDAPUEtABgAduMD+TUAGAGJJfbJJQPv/LkpxdExACADYUuelSED9//EnZGtAQP7/9cM3CE5AAAACW2WdQ0D0/6VhBT88QP//IPrgI0NA+v8T4B6hOkAGAMQkJUpNQAAARlUU9DdA/P9zA9JkMkABACJJy2c5QPz/WCbvTUVA/f8Ck29TSEADAKz1nAxNQAYAl06hmEhABgA2GKRgOUAEAGZxtIFOQAQANP3RDjNADAC2ApMDP0D//0LmSE5JQP7/4YIRjDxA+v+9+TBSQ0ANAAbFHKozQPz/IyRo1TJAAADgnu3qQ0D9/3Or1N1FQPf/w1amyDNACgDGNWp4OED9//8TTV02QAMAPjTRrUBA/v9enP0BSUD5/31uby81QAMAY5iYdENABQDxSyNKQUABAPjfZao0QAQAmnfXmENAAgBkihwzSEAFAChhwSdHQAUAqbACrkBA//+74H12QUD9//bqdcdJQP7/ZKqsjk1A/f83UIXyMkD5/wbAHUNAQP7/U/ycUkFABwAE5JARRkD7/+T09lFKQPz/s00YHUJA+P/VUvj/N0D//6YHKphOQP//TquK2EJAAADukAFpQ0D+/0ySUSFBQAcA9k9kfEdAAQBxgMDbQUD9/4kGbWo4QPr/uvFkIktA+//4BxZ0T0D8/5FacT9EQAMASIKBBzxA/P893+6oSkD9/7+1mvVBQP3/FtucWkRA+v8fm4wlQUADACdCK2RPQAEAMGK3HU9A/f8uqz1CR0ALAGyBZqE1QAEAEnaRyz9A+/9O2vMvSkALACzCmmY/QAMAqdP9qExA+//phB+oRUABAEEeOSlIQAQACOXb/kxA+f+1tKsBM0D//0/GOxlFQAEA0RwvYEFA+v/BePAhPkD4/4xHWhpKQAcAEPlf7j5A//8UcSgORUAGAEbHRgVEQP3/QyMt5kpA/f+x+il9SkAKAIpBmgE2QP3/OV0tR0tAAwDssqvqTEAEALx1H09CQAMA3Z2/AkhACgCqnUqnOED6/2kGqK1GQPv/58WTE0tA/P8JnqvHTUD8/1wtCA9JQAcAhrJo90dA8///Ws7oOkD+/12/KuRMQAgANt52XDNAAwCkXfTvQkD8/8/hEdE3QAAAEr+8p0JAAAAkCvDMREAFAPDthWE9QAUAnvGgDkBABAA9F4PtSkAHAKcPxx1KQAUA+UxMUkVAAQC5a9vATED8/+D0D/ZEQAUA3X2t2EhAAwCJvxdpSkAFAEp3q1dDQPv/Y+it5kJABgCdv2UzSkD+/5G3T6A0QPr/oDCbWEZA///aPaWzSED9/141rhhCQAEAvamXwkxAAACsZllJQkADADVmXPJHQAIAH308VkxAAAAyV5b4OUAAACerLCBDQAIAFEI66jhABgBvE5ILQED+/+3Xi/08QPv/hkJqKkRA//8IreIpT0ALAOgT4Aw7QP//l3pHE0tA/P8s7UruRkAHAPWYFZJMQP//8wDiBkxAAAA/a7pxSkDy/33Ja80/QPn/Xf9GtUZAAwD913UrQkAGAF0XRAVPQAQAb5WJP0FA/v+HGuqHQED0/+ucatoyQAsAhsZrbTNABwDdhZgiQEAFAEsF5bZIQAcAPjf1EjhA//9fnj9dS0D+/1k3ExtGQPv/VFXl+UdA/v+7MJjtSkD9/xeuT7xAQP7/GzOpWDtA///Tp5JlR0D+/zDNOuZNQP7/jYOnT0BA+/8GNE7gTUABAJSIyvdIQAQA5jon0DJABgCfkI3lR0AFAFuM9jBBQAIAzTA1pUtABACZ2ktuTUD//3RQP2FOQAYA7yEaQkBABABX8zMQRkDz/xe7j84/QAQAqmRQHjRA+v/WXh7aRED7/0ebhqlIQP7/moDGsUdA//8BMYxJNEADAKwLampBQPr/H95UEkBA+v+ktjl/QkADAOXH5SBMQPX/d3+2JzxA+f8niz7nO0AOAMpIj/w0QAQA94P4L05A//93X5ZIQUAHABZw645GQAAAoIlx30FADAB8mnGqPUAOAGQyZBM7QAwA7lYNcTtAAAD875roRUAGAFUriMpJQAUAGlkIbUFA+/8c2XWhQED6/1mUQ+tCQPn/VQ4F4kFA//9Hk6UlO0AKAFDbLUE0QPr/BL6F6kVA/P9ElzOHSkAEALeUONBAQAYAZvEt8k1A/P9thcubT0D9/7DaQjpOQAIAZvquVz1ABABIbTA5TkD0/7nnYOw6QAQAd27x1k5ACwAGDA+oNkADACg3dFtKQAcAJE3aWTdABQAGcyQlQ0D6/7llJFlBQPT/gVkG+D5ABQDI/ZqGRED5/+cmuYtLQPf/y2XxnDNA+/8fN5KPTUD7/yv7o95OQP3/AuzglEJA/v/5/B3SS0ADAMGe3F9LQAcA7ukgkklA/P+zvYd/N0D6//Bh3+pMQAUAUJ3ghjZABQAaZSG5N0AMAGSAGZw0QAsAHLoWQTdA/P8huWffR0ADAEZcioNBQAMAYImthk5A+f9DiFzBPUD6/9H0IUc/QP//nfeU4UpACwAGoO3dO0D6/55WSJ5DQPb/o33ttjpA9/9zlPSIM0D8/wk8RlFFQPz/2stxj0xA8v9Jnzl2PED7/wcVq+FKQPj/EfPQKDpA//9eze2VT0ABAKXGDvZEQAoAhPxfhz1A8/8XmenZNkADAF0o3LpHQPP/n344fj9ABQDk+qBVNkD7//w52c5IQAYAeym6rkVAAwA+lHF4TEALADJmYf01QPr/y+QB+jNA+f+Ff5/tOkD6/yUqBolCQAIAohq1OUhAAABu2UmCREAIAMZtCo09QPP//TdIFj9ADQD0a/sVNUAGAG5x4HhOQPv/O4FE1UxA///zvUmRTkD8/8VNMNpAQAcAUEuh0zRA/v9knp/OTkANAAIedLg3QPP/l5YucjJAAgCXbQtTT0D3/48lOVA7QAMAgGZwPjNAAQBufPaGT0Dz/93/0kc1QP3/F6hwmEZA9P+/GyxGPUD8/7TsdNBGQPv/+jXAxUZABgBoVdv3RED7/yUrdhVMQAIAFSuKuUdA+//jyqOLP0D8/+nDNbVBQP7/oHHxjkVABQAgExQGRUAFACkAttlFQAAAZx7omEtA/f9qn7mDTUAFACntccdPQAEAnihpCT5ABAB5TKbERkD7/96jU45KQAUA3IegXkpA/f+eQ4ueT0D8/2Ui4RM/QAIACkYYNUhABQDkatgISUD3/50Ju0k2QPj/ZRycLDxABQASnw3tQUD5/4DFSIJMQPz/6PxX7URA/P+dYAaeP0D8/13wE9AyQP7/tH15QUFA+v/N6wM0QUD7/xEPuHBGQP//LaZBzUVABgDeEKG7PUAHAFAOSOdJQAMAcd53TUFA/P+vSJQjTkAEACx/tNgzQAMAmjrGrElA+f89ec0KNUAEAPbap0dBQAUAVkGTf0FAAwB0Py3FSkAEAJITqXs5QP7/Av3L7UNABACzkp3RS0ACAH5hl0VGQAEAquEFqDZAAQAQWk7/O0AFANIPeltJQPz/BmlcUUxABAAAGCVKM0D1//G7zG44QAEAkQk4JElAAgBuKaMDNUAEAJV7Ic5EQAIAP12goEJAAAB7q2bYSkAGAO1XPotMQPv/srd7o0pA+f//yEYlTkAEACbnZlBLQPv/zNOf0EFABwDQlkuqT0AGAES+k1c3QPn//tG4qE1A9f/5Jv41NUD5/0U2QUc4QP7/qLpE7ktAAQCwlivkR0AAABCed7RIQP//ykYE/kdABQB9W/LVTkABAA9KkjVJQAQAQHMa5EtAAwBUg6ggTkAEAHm/ohdNQAMA6arDkUFABAAyBL5KNkAHACajzdEzQPz/ia90b09AAgDrU87ATkAFAJv8mDhBQPf/PR336jpA//9mJ9S8RkAGAByyrNRLQAcAqAkWEkZAAADXwuZKT0D5/xZMLYpPQAEAnctgj0VAAgCOTkjLQUAGAL6tYZpNQPr/7cs3XU9ABQDthMFiTED8/0RloglKQAYAhMz0pU9A//9Wu02xTED9/6vNMVZAQAYA3o0RQkhA/f8COOEpS0D7/z2K+1dOQAUApVpQvkRABAAJMDEUQkACADQCpYs9QPz/eAP2cU1A/f8jYRFAMkD8/+SmRQBLQPL/U5n6mDhA/f8Bkl2VNUAHAFhTpfVBQP//M2PaQ0pA+P9nq2vqN0D///sb/hBJQAYA1DhicU9ABAC/qNlzSkACADk6ADtCQAMAJ9EbZUxA//+PNE09Q0D6//8OLGY2QPr/mdvMd0NABADuzeGZRUD8/z22oUo7QAEA2SLqCkhA/v91HDPPRUD8//RXdfFHQAUANHnSpEVA//+6DSN6RUAHADbpe/E8QAIA1A/S10VAAAAXjMo+TEAFAEh1LxpCQAEAapC44EBA9f+P5lokPkD0//HjIdc1QAAAO5AkvUJA//8MBq+lT0D6/xItZsJAQPv/rvGVhklAAgB41NqLOUAMACIoytg7QP//RGC300FABQCjSlpeQkD5/9rhi2hAQPv/XQLkoU1ACABOGK0sOEAAAP+GA7dNQAIA/cFYpUJAAABu14g1PUD3/wOoIyY3QAAAcY0maktABgBP1uqjREADAH7GGRJGQAYAjDfeVEVA+//03zaLTkAGAHsBxepEQPT/zV9ueTVA+/86qHt8SED5/z8VymA9QAUACgyHjk9AAAA/mBHSRUD7/4wsftBAQPr/5dXXwEJA/v9phORgRUANABgsxKk4QA0AdLH2GT5AAwD49kZLO0AGAI6BwJBIQAAAH0/9Sk9AAACamG7QRUADANFgE+RHQAAA9hk/+EVA///3OOSPSED+/20rmWxOQAQAJ6JnWUtA+f9302gIOkABAGG9WZZDQA0AEs1a0zVABABCquAGRUD5/5dQG1s1QPz/Hfej60hABwCffonuQED8/1xWoQxAQAsAkqUoaTxA//8bMQweT0ADAHBO6ZoyQP7/sPyor0VA+v8qAlGyQ0AFAFgMsLVFQAYAneeyDEdABgBLEpagSkD0/3f2nLYyQAYAXSpYGUJA/P+b2GUzQED9/7934KM4QAQAAvbJkkZA/f/pLcK0RED4/5/GeQIzQAwA5lmKBTNAAQBWQ5EuRkAGAL5orBdKQPP/wfR24DdA/P/pkTwnQED+/8XS/1M/QAIARovaXkFABgB6LcIEQ0AHADQUm09EQAMAD8Ms1EhA/v862FKhQUD6/8MlFCM9QPr/JtKy9EhABwCxafBBS0D7/woZNSZMQPz/Uj0b+0NABACCWGE1QkD//8MA4A01QPf/N0KZBTxA//9vBxl6PEAFAB9c/ZVEQPv/V5Mjh0hA8/+tMt6DPkD9/+exFik2QAgAED00bDxA//8bV2TVPkAGAJNI7FlLQAoA7po+bjpAAAD/noEDR0D+/13hoCRCQAIA7UvO4UFA9f8N2B97O0AIADBSAmY7QP//paYHmUZAAwBMFv70MkACAEP9KXVCQPv//aak30lA9/9VpW2KNkAAAACBgpZDQAYAAvUoWkBA//8FyIWjRUD9/z/LrSlMQPL/yy4/zjlA/P8vZBlhPED3/4Mr0UczQPv/6yJpKD5A/P+0r5+mQ0D6/5xl81NPQPT/oReE0j9A+//ObuD2Q0ACAPvo6TxDQAoAEOjzCDVAAgDc7DtGS0AEAI7uXk5NQAMATk2ssDlACQC06ja6OkAAABBXxfI/QAUAxBkw5EZA8/9bWBujN0D6/wFGanVOQPP/t1c9nzhA/f/ndYGQOEABAOLX7N1JQAAASzSmYEdADQD6kei3N0D9/7tkPtlGQAUAkZlrL0JAAgAnhDMyTUADAFDaYntJQAUAkkT18EFABwAgmsCETUD6/3oYmsNJQAUAQl4cFT5A/f+f0RBHQUD+/1HnZHNBQPf/3f3IOjJA//8LFuy3TUADAC3kpDVMQAUAgjLJ/TpA/f9dru8sNED8/zkrncU6QPn/5/GqbDpA/v8Jvf/0O0Dy/yElBM84QP3/1j88YEVA/v+5GwhOQkALAETSxuk5QPz/IPbPKkFABQBcEfTBRED+/w0cCghNQP3/F0HtK0VAAwDvBKeSSUD//50MsrE4QAEA8J/qaTJA8/8R2xvaOkD//2LIyZdCQAQAcySIxkBAAQDIyypOSED+/y3J2NI9QAEAs1nmJUFABwCeDxGdQ0D1//EuES0yQPz/x/fa9ElAAAAmLk6rNkAEAMpGaXMyQAcAbnemGzRA//+lEl2GPUD8/xF1CpxMQPf/W0XKbTJA9/+jG1j5N0D//9QYrJNEQAAAFvB2Ez5A/P9Fy7r0RUD5/5AVBzhPQAMA2G/kaUBA+/9EkTW1SkD7//0gQEwzQPz/hN4IE0hA9f//vnN7O0ADAFz1/KVEQPr/AbsjhjNAAQBLSNrTSUD+/9XCAf85QP3/exRlckBAAgBDeWJ9Q0D+//i/0lpNQAAAzmCDhk5AAgD3aSJ7SkAGAJdMnNJOQAQASODU9EVA+v/hJyRoTEABAIPIlhVKQPr/lIpiOE1A/f9+zxS1QUD//9R8Lo5KQAEA3MHpE0ZA/P/5dh70NUACAKA+WbdHQA0AkEz/yTZA//8smT54TkADAAydXy5IQAcAkVl0uEJACQBQoKTgM0AGAOOv34lDQP3/V+/lYTNA+v9jqzAjT0Dz/xvj6jE2QAIANFoOLjNA+/8bfU3sR0ADAObS48BLQAAAmxpzI0ZAAQBZVW1aRED8/zy8FphGQP7/+dOE+UBA9/9dyk0OMkD//3X0jRdKQAYAgqaxpExA9f+B1sZ+NEAAANgYYWtMQAQAyPUPN0xA+/8DldrCSUANAMIBIS07QAQAIHPNf0dABQD1F1wUSkD8/+DwXndNQPn/d+klDUBABgDU8DMHR0AAADJH21o8QAkAktWBqzlABAArSURUS0AGAGabeahGQAAAQd9SWEJAAgA1hgIUTkD7/8dVS6FKQAgAyBxrxzpA+v846GPUQEAHAFaKWawzQAkAPs9QZzZABABS1b8pRkAFALL2VW83QAIAQlcGN0pA/f/42jIWSUADAGGTawhJQP//R2KNlkhA//8X1l/3TEAGAKtIkS5NQAYAcn/EHURACgD22llfM0D///ZXM/NCQPz/w7DGukJA/v9hECf7RED8/0Wm/wU5QP//yx38mEdA9P/BGud0N0AGAEpb16xKQPz/ksUfU0lA9f8vI1BeO0ABAJHjp/JAQAkA7D7xOj5ABAAGnLV4O0D6/9LWqpBJQP7/6ucF10dACwDA7grMPEACANJJ22g1QAIA8Dc26T1A+/+z1356N0AEAFN2PW9IQAQAXpXnM0NABgBrPNVPTUAMAED++hg2QAYA6y1tJkBA+/9Y3oQwQUD2/4FrAZ4zQPz/BxkA3U5ACwAQwL7WO0AAAIr3gfhBQPz/Mr9YkEtABgDu3ZsVM0AGABpLLtBMQPv/AgftIU9AAgD8tJXvQkD9/7nm1SxMQPv/oiknPUJA8f+P1SAOMkD//5YVp1NMQPv/38od1DtABQBCwd2/PkD7/032ZQRHQAQASzuwWUJA+v86s9D3RED9/yqpikdEQAUA2o8opzpABAC8EX0aQUAGAPK9JDdBQPn/1+zj/khA/f/swRHhREAAAP7liZZLQAQAKinhgDNA/v/t6J7hTUAHAGAzfMxBQAAAcjZP0ExA+/9d2OmYOEABAOAlNqBPQAMAPDePXkxAAwANWhVEQED4/8Ebro4+QAEA3DG5UktABQA4vMQfTkD+//Kt4SlCQAAA/cU+bEVABQAJeZO3T0Dy/5lha9M2QPz/oEYI6EtADQAqTGngPED7/2FAxGNPQAUAtRilQEdA+v+MU3uIRUD//7S+OAxJQP//NTBAHE9A9f9hOj/mM0AFAIEQmcxOQAwAfA3evjJA+v+z83KVTkAJABjp+N89QAQAjqRzAE1ABACy9+7KP0D7/4LXYl9LQAoA3N/fhj9ABwBmlK60SkD6/+p0khlBQP//LVz+pkRABAA3ySRfRkD//7PC3IRIQPz/1LtRqUVABQCUDsqGS0D9/yf8QOZJQAQAwUVb7E5A/v8vwlRuN0AEAF4sy2VBQAEAi94A0k9ACwCUwYMgNUAFAAmOkPxMQAIAYlaH6UFABADjQDXyTkD+/9W7HmZIQAkADF1XUjRA//90Dd9pQkAAAJpogkw5QPz/9PGNPEdACADAaAMJSUD7/yJVI8lEQPr/kSqV9UVAAACNbajKRkD9/yeL+Y1BQAMA3UKd2k1A+v/bxoXrO0AGANjmAYpDQAUAsGT5V0RABgC2yVT8QUAGABkdhQ9PQPT/mZfZXDtA+v9AyKZ1RkD+/zK3sMVGQAAAXjZozEJA+/9eTrVZS0ANAGj953wzQP7/GVJ3kjxA//8eOw1nTkAGAGoLl+5PQPv/dbOjmz9A+f/2yJCmTkADAJ46JOU5QAUA8N5jXUJA+/8a0utbQEAMAIIaZYs+QPr/dYJDhktA//9alBdCRUD3/y1DSu02QAEAlGf08ExACwDunmvDPkAAAP7q35U+QPz/20D1OUdAAwCz1I3xT0D7/+v3HgJNQAQAr02e8EZABABOpNDATUANAGqMNwU9QP//PUbOyTdA/f91vRe/MkD9/3cDKIdFQPz/PhsCY0RABQBkX4H1OkACAJZLx4tAQAEAq9gj8UZA/f/6qVj3QED1/ymmajY5QAYAl0xQHElABwAyC4xnO0D8/y3jLzk2QP7/94CuL0VABgDMELkYT0D//2LZ4GRJQAYAzQ9a+k1A9v/XaxKCMkD7/wXwv8lEQAkAkLDOaj1AAwC18aBrT0AGAPZHATE4QAUAIuwWGE5ABgCMT4gDSkACAC1+vhxLQAYAVINvDzxABAACeuHzQkAJADRwKa85QPT/g9jS8DpA8//fr3RQOEAFANTQDu5GQAAAwEy1aEhABQAQa9zVQ0AHAF5Q8dZOQAYA3Z/7m09A+/8vB+MTSkADAJVpejZCQAIALtiFXTdACwCY0lCfNED9/wNfV4VFQPz/eQ7Mt0NAAwBM0zH4SkD6/ykiCdhAQAIATfPQcUxAAQAMnSBGR0ACAA64VtJDQAYAHC2hBkpAAQCqZeUZT0D3/xGpnV01QAIAFe3H1UVAAQAQbUaUTkD+//Nrb4BEQPz/uZnh6UtABgBy2O39OED+/zmYKppNQPn/aD12MUZA+P/9t+x5O0D9/4tjj3VCQPr/JLa34kRABwAZKfYVQEAJAB5b5j08QP7/Ndd+4UFABACg7sZuS0D8/yTUG1JMQPv/d1ARDU1A//8rMeHtTUAFAHPFBzJKQAcAUu/pHkpAAwBwKao3O0D7/6t2QadAQPz/nocclEZABAD0OHQhTkD//1GIJARMQPT/KavY7ThABgAG7qsjQkD2/ymqh/szQP3/WKh5nERAAQCoHcApQEABAK6mxgxDQP3/frNo8klAAwAQWHX1TUD3/4O5kNg8QAoAlLxFcjxABQA1bzcAQkD5/3moOcRLQAMAHJ+1qDJA+/8KyM5iRkAEAPf/eMVGQAMAfvH/LzhAAgDB7FWJREAFALJwFSE7QAUArcXliUlABgA/yfx9QkD//xvpuYxAQP3/8b4D3EVAAgC6OPdcTkD//yOBcg1EQPz/eKuYqERA8/+T0aSzMkAAABdcin1FQPn/yLEDp05A//+PkSBCSEAFALOqQyhKQAUAeuKyjDxA+/96nn4tTEACAJN937NMQAYAz9wjlUJABwC7JihfRED9/9Oh0LE3QPb/e/LAMjxABQD0S4CdQ0AHAEGjL3VBQPv/V/XkVUNA/v9wKvHgSUD+/0CvfppFQAYA1wbm2EdABQA0IeVOPkAGADRxEnxLQAQAp8i1u0dADAB2hRNYP0ACAF15Mh5LQAEAoA1dzUdA9v9t/U8xP0AAAHNdbUJEQAIAi+P+EkhA+/+7w1ZKSkAFAHFX7v9FQAEApCUh/0ZABgDs2t+pQED8/xEaiHFOQAIAfXA0kkNA/f8MMqZPQ0AIAMZK24o0QPz/5ctGRThA//8dAKtAOUD+//T+Ag1BQPr/KpMKxUZA9P9JgwVAN0D4/0nmadI6QAIATig14EJA/P/5s1NCSED7/7etfyk3QAMAuAxlBDxAAwBezmP8T0D8/2z0iBNMQA==",
                        "dtype": "f8"
                      }
                    },
                    {
                      "axis": {
                        "matches": true
                      },
                      "label": "income",
                      "values": {
                        "bdata": "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",
                        "dtype": "f8"
                      }
                    },
                    {
                      "axis": {
                        "matches": true
                      },
                      "label": "loan",
                      "values": {
                        "bdata": "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",
                        "dtype": "f8"
                      }
                    }
                  ],
                  "hovertemplate": "%{xaxis.title.text}=%{x}<br>%{yaxis.title.text}=%{y}<br>default=%{marker.color}<extra></extra>",
                  "legendgroup": "",
                  "marker": {
                    "color": {
                      "bdata": "AAAAAAEAAAEAAAAAAAAAAAAAAAAAAAAAAAAAAAAAAAAAAAAAAAAAAQAAAAEAAAAAAAAAAAAAAAABAAAAAAAAAAAAAAEAAAABAQAAAAAAAAAAAAAAAQEBAAAAAAAAAAAAAAABAQAAAAEAAAEAAAAAAAAAAAAAAAAAAAEAAAAAAAAAAAAAAQAAAAABAAEBAAEAAAEAAAAAAAAAAAAAAAEAAAAAAAABAAEAAAAAAAAAAAAAAQABAQAAAAEBAAAAAAEAAAAAAQAAAAAAAQAAAAAAAAAAAAAAAAAAAAAAAAAAAAAAAQAAAQEAAAABAAEAAAAAAAAAAAEAAAABAAAAAAAAAAAAAQAAAAAAAAAAAAAAAAEAAQABAAEBAAAAAAAAAAAAAAAAAAAAAAAAAAAAAAEAAAABAQAAAAAAAAAAAAAAAAAAAAAAAAEAAQAAAAAAAAAAAAAAAAAAAQAAAQAAAAEAAAABAAAAAAAAAAEAAAAAAAAAAAAAAAAAAAAAAAAAAAAAAAEAAAAAAAAAAAAAAQAAAAAAAQAAAQAAAAAAAAEAAAEAAAAAAAEAAAAAAAEAAQAAAAEAAQAAAAABAAAAAAAAAAAAAAABAAEAAAEBAAAAAAABAAAAAAAAAAEAAAAAAAAAAQABAAAAAAABAAAAAQAAAQAAAAABAAAAAAAAAAAAAAAAAAAAAQAAAQAAAAEAAAAAAAAAAAAAAQEAAAAAAAAAAAEAAAAAAQAAAAABAAAAAAAAAAAAAAAAAAABAQAAAAAAAAAAAAABAQEAAQAAAAAAAAAAAAAAAAAAAAAAAAAAAAABAAEAAAAAAAAAAAAAAAAAAAAAAQAAAAAAAAAAAAAAAAAAAAAAAAEAAAEAAAABAAAAAAAAAAAAAAAAAAAAAAAAAAAAAAEAAAEAAQAAAAAAAAAAAAAAAAABAAEAAAABAQABAAAAAAAAAAEAAQAAAAAAAAAAAAAAAAAAAAAAAAAAAQAAAAAAAAAAAAAAAAABAQAAAAAAAAABAAAAAAEAAAAAAAAAAAAAAAAAAAAAAQAAAAEAAQAAAAAAAQAAAAAAAAAAAAAAAAAAAAAAAAAAAAABAAAAAAAAAAAAAAAAAAAAAAAAAAAAAAEAAAEAAAAAAAAAAAAAAAAAAAAAAAABAAAAAAAAAAAAAQAAAAAAAAABAAEAAAAAAAABAAEAAAAAAAAAAAAAAAABAAAAAQAAAAEAAQAAAAABAAAAAAAAAAAAAAAAAAAAAAAAAAAAAAAAAAAAAAABAAAAAAAAAQEAAQAAAAAAAQABAQEAAAAAAAAAAQABAAAAAQEBAQAAAAAAAAAAAAEAAAABAAAAAAABAAABAAAAAAAAAAAAAAAAAQAAAAABAAAAAAAAAAAAAAAAAAABAAABAAABAAEAAAAAAAAAAAAAAAAAAAAAAQAAAQEAAAAAAAABAAAAAAEAAAAAAAABAAAAAAEAAAAAAAAAAQEAAAAAAAAAAAAAAAEAAAABAAAAAAAAAAEAAAAAAAAAAAABAQABAAAAAAEAAAAAAQAAAAAAAAAAAAAAAAAAAAAAAAAAAAAAAAAAAAAAAAAAAAABAAAAAAEAAAAAAAAAAAAAAQABAAABAAAAAAAAAAAAAAAAAAAAAAABAAEAAAAAAQEAAAAAAQAAAAAAAQABAAAAAAAAAAAAAAAAAAAAAAAAAQAAAAAAAAABAAAAAAAAAAAAAAAAAAAAAAEAAQABAAAAAAAAAAAAAQAAAQAAAAAAAAAAAAABAAAAAAABAAEAAAAAAAAAAAAAAAAAAAAAAAAAAAAAAAAAAAAAAAAAAAAAAAEBAAAAAQAAAAEAAAAAAAEAAAABAQAAAAAAAAAAAAAAAAAAAAEAAAEAAAAAAAAAAAAAAAAAAAEAAAAAAAAAAAAAAAAAAAEAAAAAAAEAAAAAAQAAAQAAAAAAAAAAAAEAAAAAAAAAAAAAAQAAAAAAAAAAAAEAAAAAAAEAAAAAAAAAAAAAAAAAAAEAAAAAAAAAAAAAAAABAAAAAQABAAAAAAAAAAAAAAAAAAABAAAAAAAAAAAAAAEAAAAAAAABAQAAAAAAAQABAAAAAAAAAAAAAQABAAAAAQABAAAAAAAAAAABAQEAAQAAAAAAAAAAAAAAAAABAAAAAAAAAAABAAAAAAABAAAAAAEAAQAAAAABAAEAAAAAAAAAAAABAAAAAAAAAAAAAAAAAAAAAAAAAAAAAAAAAAABAAAAAAAAAAAAAAAAAAAAAQAAAQAAAAAAAAAAAAAAAAAAAAAAAAAAAAAAAAAAAAAAAQAAAAEAAAAAAQAAAAAAAQEAAAAAAAABAAAAAAAAAAAAAAAAAAAAAQAAAAAAAQAAAAAAAAAAAAAAAQAAAAAAAAAAAAAAAAAAAAABAAAAAAAAAAAAAAAAAAAAAAEAAAAAAAAAAAAAAAAAAAAAAQAAAAAAAAAAAAEBAAAAAAEAAAEAAAEAAQEAAAAAAAAAAAAAAQEAAQEAAQAAAAAAAQAAAAAAAAABAAAAAAAAAAAAAAAAAAAAAAAAAAAAAAEAAAAAAQAAAAAAAQAAAAAAAAAAAAEAAAABAAEAAAAAAAAAAAABAAAAAAAAAAAAAAAAAAAAAAABAAAAAAEBAAEAAAAAAAAAAAAAAAAAAAAAAQAAAAAAAQAAAAAAAAABAAA=",
                      "dtype": "i1"
                    },
                    "coloraxis": "coloraxis",
                    "symbol": "circle"
                  },
                  "name": "",
                  "showlegend": false,
                  "type": "splom"
                }
              ],
              "layout": {
                "coloraxis": {
                  "colorbar": {
                    "title": {
                      "text": "default"
                    }
                  },
                  "colorscale": [
                    [
                      0,
                      "#0d0887"
                    ],
                    [
                      0.1111111111111111,
                      "#46039f"
                    ],
                    [
                      0.2222222222222222,
                      "#7201a8"
                    ],
                    [
                      0.3333333333333333,
                      "#9c179e"
                    ],
                    [
                      0.4444444444444444,
                      "#bd3786"
                    ],
                    [
                      0.5555555555555556,
                      "#d8576b"
                    ],
                    [
                      0.6666666666666666,
                      "#ed7953"
                    ],
                    [
                      0.7777777777777778,
                      "#fb9f3a"
                    ],
                    [
                      0.8888888888888888,
                      "#fdca26"
                    ],
                    [
                      1,
                      "#f0f921"
                    ]
                  ]
                },
                "dragmode": "select",
                "legend": {
                  "tracegroupgap": 0
                },
                "margin": {
                  "t": 60
                },
                "template": {
                  "data": {
                    "bar": [
                      {
                        "error_x": {
                          "color": "#2a3f5f"
                        },
                        "error_y": {
                          "color": "#2a3f5f"
                        },
                        "marker": {
                          "line": {
                            "color": "#E5ECF6",
                            "width": 0.5
                          },
                          "pattern": {
                            "fillmode": "overlay",
                            "size": 10,
                            "solidity": 0.2
                          }
                        },
                        "type": "bar"
                      }
                    ],
                    "barpolar": [
                      {
                        "marker": {
                          "line": {
                            "color": "#E5ECF6",
                            "width": 0.5
                          },
                          "pattern": {
                            "fillmode": "overlay",
                            "size": 10,
                            "solidity": 0.2
                          }
                        },
                        "type": "barpolar"
                      }
                    ],
                    "carpet": [
                      {
                        "aaxis": {
                          "endlinecolor": "#2a3f5f",
                          "gridcolor": "white",
                          "linecolor": "white",
                          "minorgridcolor": "white",
                          "startlinecolor": "#2a3f5f"
                        },
                        "baxis": {
                          "endlinecolor": "#2a3f5f",
                          "gridcolor": "white",
                          "linecolor": "white",
                          "minorgridcolor": "white",
                          "startlinecolor": "#2a3f5f"
                        },
                        "type": "carpet"
                      }
                    ],
                    "choropleth": [
                      {
                        "colorbar": {
                          "outlinewidth": 0,
                          "ticks": ""
                        },
                        "type": "choropleth"
                      }
                    ],
                    "contour": [
                      {
                        "colorbar": {
                          "outlinewidth": 0,
                          "ticks": ""
                        },
                        "colorscale": [
                          [
                            0,
                            "#0d0887"
                          ],
                          [
                            0.1111111111111111,
                            "#46039f"
                          ],
                          [
                            0.2222222222222222,
                            "#7201a8"
                          ],
                          [
                            0.3333333333333333,
                            "#9c179e"
                          ],
                          [
                            0.4444444444444444,
                            "#bd3786"
                          ],
                          [
                            0.5555555555555556,
                            "#d8576b"
                          ],
                          [
                            0.6666666666666666,
                            "#ed7953"
                          ],
                          [
                            0.7777777777777778,
                            "#fb9f3a"
                          ],
                          [
                            0.8888888888888888,
                            "#fdca26"
                          ],
                          [
                            1,
                            "#f0f921"
                          ]
                        ],
                        "type": "contour"
                      }
                    ],
                    "contourcarpet": [
                      {
                        "colorbar": {
                          "outlinewidth": 0,
                          "ticks": ""
                        },
                        "type": "contourcarpet"
                      }
                    ],
                    "heatmap": [
                      {
                        "colorbar": {
                          "outlinewidth": 0,
                          "ticks": ""
                        },
                        "colorscale": [
                          [
                            0,
                            "#0d0887"
                          ],
                          [
                            0.1111111111111111,
                            "#46039f"
                          ],
                          [
                            0.2222222222222222,
                            "#7201a8"
                          ],
                          [
                            0.3333333333333333,
                            "#9c179e"
                          ],
                          [
                            0.4444444444444444,
                            "#bd3786"
                          ],
                          [
                            0.5555555555555556,
                            "#d8576b"
                          ],
                          [
                            0.6666666666666666,
                            "#ed7953"
                          ],
                          [
                            0.7777777777777778,
                            "#fb9f3a"
                          ],
                          [
                            0.8888888888888888,
                            "#fdca26"
                          ],
                          [
                            1,
                            "#f0f921"
                          ]
                        ],
                        "type": "heatmap"
                      }
                    ],
                    "histogram": [
                      {
                        "marker": {
                          "pattern": {
                            "fillmode": "overlay",
                            "size": 10,
                            "solidity": 0.2
                          }
                        },
                        "type": "histogram"
                      }
                    ],
                    "histogram2d": [
                      {
                        "colorbar": {
                          "outlinewidth": 0,
                          "ticks": ""
                        },
                        "colorscale": [
                          [
                            0,
                            "#0d0887"
                          ],
                          [
                            0.1111111111111111,
                            "#46039f"
                          ],
                          [
                            0.2222222222222222,
                            "#7201a8"
                          ],
                          [
                            0.3333333333333333,
                            "#9c179e"
                          ],
                          [
                            0.4444444444444444,
                            "#bd3786"
                          ],
                          [
                            0.5555555555555556,
                            "#d8576b"
                          ],
                          [
                            0.6666666666666666,
                            "#ed7953"
                          ],
                          [
                            0.7777777777777778,
                            "#fb9f3a"
                          ],
                          [
                            0.8888888888888888,
                            "#fdca26"
                          ],
                          [
                            1,
                            "#f0f921"
                          ]
                        ],
                        "type": "histogram2d"
                      }
                    ],
                    "histogram2dcontour": [
                      {
                        "colorbar": {
                          "outlinewidth": 0,
                          "ticks": ""
                        },
                        "colorscale": [
                          [
                            0,
                            "#0d0887"
                          ],
                          [
                            0.1111111111111111,
                            "#46039f"
                          ],
                          [
                            0.2222222222222222,
                            "#7201a8"
                          ],
                          [
                            0.3333333333333333,
                            "#9c179e"
                          ],
                          [
                            0.4444444444444444,
                            "#bd3786"
                          ],
                          [
                            0.5555555555555556,
                            "#d8576b"
                          ],
                          [
                            0.6666666666666666,
                            "#ed7953"
                          ],
                          [
                            0.7777777777777778,
                            "#fb9f3a"
                          ],
                          [
                            0.8888888888888888,
                            "#fdca26"
                          ],
                          [
                            1,
                            "#f0f921"
                          ]
                        ],
                        "type": "histogram2dcontour"
                      }
                    ],
                    "mesh3d": [
                      {
                        "colorbar": {
                          "outlinewidth": 0,
                          "ticks": ""
                        },
                        "type": "mesh3d"
                      }
                    ],
                    "parcoords": [
                      {
                        "line": {
                          "colorbar": {
                            "outlinewidth": 0,
                            "ticks": ""
                          }
                        },
                        "type": "parcoords"
                      }
                    ],
                    "pie": [
                      {
                        "automargin": true,
                        "type": "pie"
                      }
                    ],
                    "scatter": [
                      {
                        "fillpattern": {
                          "fillmode": "overlay",
                          "size": 10,
                          "solidity": 0.2
                        },
                        "type": "scatter"
                      }
                    ],
                    "scatter3d": [
                      {
                        "line": {
                          "colorbar": {
                            "outlinewidth": 0,
                            "ticks": ""
                          }
                        },
                        "marker": {
                          "colorbar": {
                            "outlinewidth": 0,
                            "ticks": ""
                          }
                        },
                        "type": "scatter3d"
                      }
                    ],
                    "scattercarpet": [
                      {
                        "marker": {
                          "colorbar": {
                            "outlinewidth": 0,
                            "ticks": ""
                          }
                        },
                        "type": "scattercarpet"
                      }
                    ],
                    "scattergeo": [
                      {
                        "marker": {
                          "colorbar": {
                            "outlinewidth": 0,
                            "ticks": ""
                          }
                        },
                        "type": "scattergeo"
                      }
                    ],
                    "scattergl": [
                      {
                        "marker": {
                          "colorbar": {
                            "outlinewidth": 0,
                            "ticks": ""
                          }
                        },
                        "type": "scattergl"
                      }
                    ],
                    "scattermap": [
                      {
                        "marker": {
                          "colorbar": {
                            "outlinewidth": 0,
                            "ticks": ""
                          }
                        },
                        "type": "scattermap"
                      }
                    ],
                    "scattermapbox": [
                      {
                        "marker": {
                          "colorbar": {
                            "outlinewidth": 0,
                            "ticks": ""
                          }
                        },
                        "type": "scattermapbox"
                      }
                    ],
                    "scatterpolar": [
                      {
                        "marker": {
                          "colorbar": {
                            "outlinewidth": 0,
                            "ticks": ""
                          }
                        },
                        "type": "scatterpolar"
                      }
                    ],
                    "scatterpolargl": [
                      {
                        "marker": {
                          "colorbar": {
                            "outlinewidth": 0,
                            "ticks": ""
                          }
                        },
                        "type": "scatterpolargl"
                      }
                    ],
                    "scatterternary": [
                      {
                        "marker": {
                          "colorbar": {
                            "outlinewidth": 0,
                            "ticks": ""
                          }
                        },
                        "type": "scatterternary"
                      }
                    ],
                    "surface": [
                      {
                        "colorbar": {
                          "outlinewidth": 0,
                          "ticks": ""
                        },
                        "colorscale": [
                          [
                            0,
                            "#0d0887"
                          ],
                          [
                            0.1111111111111111,
                            "#46039f"
                          ],
                          [
                            0.2222222222222222,
                            "#7201a8"
                          ],
                          [
                            0.3333333333333333,
                            "#9c179e"
                          ],
                          [
                            0.4444444444444444,
                            "#bd3786"
                          ],
                          [
                            0.5555555555555556,
                            "#d8576b"
                          ],
                          [
                            0.6666666666666666,
                            "#ed7953"
                          ],
                          [
                            0.7777777777777778,
                            "#fb9f3a"
                          ],
                          [
                            0.8888888888888888,
                            "#fdca26"
                          ],
                          [
                            1,
                            "#f0f921"
                          ]
                        ],
                        "type": "surface"
                      }
                    ],
                    "table": [
                      {
                        "cells": {
                          "fill": {
                            "color": "#EBF0F8"
                          },
                          "line": {
                            "color": "white"
                          }
                        },
                        "header": {
                          "fill": {
                            "color": "#C8D4E3"
                          },
                          "line": {
                            "color": "white"
                          }
                        },
                        "type": "table"
                      }
                    ]
                  },
                  "layout": {
                    "annotationdefaults": {
                      "arrowcolor": "#2a3f5f",
                      "arrowhead": 0,
                      "arrowwidth": 1
                    },
                    "autotypenumbers": "strict",
                    "coloraxis": {
                      "colorbar": {
                        "outlinewidth": 0,
                        "ticks": ""
                      }
                    },
                    "colorscale": {
                      "diverging": [
                        [
                          0,
                          "#8e0152"
                        ],
                        [
                          0.1,
                          "#c51b7d"
                        ],
                        [
                          0.2,
                          "#de77ae"
                        ],
                        [
                          0.3,
                          "#f1b6da"
                        ],
                        [
                          0.4,
                          "#fde0ef"
                        ],
                        [
                          0.5,
                          "#f7f7f7"
                        ],
                        [
                          0.6,
                          "#e6f5d0"
                        ],
                        [
                          0.7,
                          "#b8e186"
                        ],
                        [
                          0.8,
                          "#7fbc41"
                        ],
                        [
                          0.9,
                          "#4d9221"
                        ],
                        [
                          1,
                          "#276419"
                        ]
                      ],
                      "sequential": [
                        [
                          0,
                          "#0d0887"
                        ],
                        [
                          0.1111111111111111,
                          "#46039f"
                        ],
                        [
                          0.2222222222222222,
                          "#7201a8"
                        ],
                        [
                          0.3333333333333333,
                          "#9c179e"
                        ],
                        [
                          0.4444444444444444,
                          "#bd3786"
                        ],
                        [
                          0.5555555555555556,
                          "#d8576b"
                        ],
                        [
                          0.6666666666666666,
                          "#ed7953"
                        ],
                        [
                          0.7777777777777778,
                          "#fb9f3a"
                        ],
                        [
                          0.8888888888888888,
                          "#fdca26"
                        ],
                        [
                          1,
                          "#f0f921"
                        ]
                      ],
                      "sequentialminus": [
                        [
                          0,
                          "#0d0887"
                        ],
                        [
                          0.1111111111111111,
                          "#46039f"
                        ],
                        [
                          0.2222222222222222,
                          "#7201a8"
                        ],
                        [
                          0.3333333333333333,
                          "#9c179e"
                        ],
                        [
                          0.4444444444444444,
                          "#bd3786"
                        ],
                        [
                          0.5555555555555556,
                          "#d8576b"
                        ],
                        [
                          0.6666666666666666,
                          "#ed7953"
                        ],
                        [
                          0.7777777777777778,
                          "#fb9f3a"
                        ],
                        [
                          0.8888888888888888,
                          "#fdca26"
                        ],
                        [
                          1,
                          "#f0f921"
                        ]
                      ]
                    },
                    "colorway": [
                      "#636efa",
                      "#EF553B",
                      "#00cc96",
                      "#ab63fa",
                      "#FFA15A",
                      "#19d3f3",
                      "#FF6692",
                      "#B6E880",
                      "#FF97FF",
                      "#FECB52"
                    ],
                    "font": {
                      "color": "#2a3f5f"
                    },
                    "geo": {
                      "bgcolor": "white",
                      "lakecolor": "white",
                      "landcolor": "#E5ECF6",
                      "showlakes": true,
                      "showland": true,
                      "subunitcolor": "white"
                    },
                    "hoverlabel": {
                      "align": "left"
                    },
                    "hovermode": "closest",
                    "mapbox": {
                      "style": "light"
                    },
                    "paper_bgcolor": "white",
                    "plot_bgcolor": "#E5ECF6",
                    "polar": {
                      "angularaxis": {
                        "gridcolor": "white",
                        "linecolor": "white",
                        "ticks": ""
                      },
                      "bgcolor": "#E5ECF6",
                      "radialaxis": {
                        "gridcolor": "white",
                        "linecolor": "white",
                        "ticks": ""
                      }
                    },
                    "scene": {
                      "xaxis": {
                        "backgroundcolor": "#E5ECF6",
                        "gridcolor": "white",
                        "gridwidth": 2,
                        "linecolor": "white",
                        "showbackground": true,
                        "ticks": "",
                        "zerolinecolor": "white"
                      },
                      "yaxis": {
                        "backgroundcolor": "#E5ECF6",
                        "gridcolor": "white",
                        "gridwidth": 2,
                        "linecolor": "white",
                        "showbackground": true,
                        "ticks": "",
                        "zerolinecolor": "white"
                      },
                      "zaxis": {
                        "backgroundcolor": "#E5ECF6",
                        "gridcolor": "white",
                        "gridwidth": 2,
                        "linecolor": "white",
                        "showbackground": true,
                        "ticks": "",
                        "zerolinecolor": "white"
                      }
                    },
                    "shapedefaults": {
                      "line": {
                        "color": "#2a3f5f"
                      }
                    },
                    "ternary": {
                      "aaxis": {
                        "gridcolor": "white",
                        "linecolor": "white",
                        "ticks": ""
                      },
                      "baxis": {
                        "gridcolor": "white",
                        "linecolor": "white",
                        "ticks": ""
                      },
                      "bgcolor": "#E5ECF6",
                      "caxis": {
                        "gridcolor": "white",
                        "linecolor": "white",
                        "ticks": ""
                      }
                    },
                    "title": {
                      "x": 0.05
                    },
                    "xaxis": {
                      "automargin": true,
                      "gridcolor": "white",
                      "linecolor": "white",
                      "ticks": "",
                      "title": {
                        "standoff": 15
                      },
                      "zerolinecolor": "white",
                      "zerolinewidth": 2
                    },
                    "yaxis": {
                      "automargin": true,
                      "gridcolor": "white",
                      "linecolor": "white",
                      "ticks": "",
                      "title": {
                        "standoff": 15
                      },
                      "zerolinecolor": "white",
                      "zerolinewidth": 2
                    }
                  }
                }
              }
            }
          },
          "metadata": {},
          "output_type": "display_data"
        }
      ],
      "source": [
        "grafico = px.scatter_matrix(base_credit, dimensions=['age','income','loan'], color = 'default')\n",
        "grafico.show()"
      ]
    },
    {
      "cell_type": "markdown",
      "metadata": {
        "id": "338R2qxs9bTw"
      },
      "source": [
        "## Tratamento de valores inconsistentes"
      ]
    },
    {
      "cell_type": "code",
      "execution_count": 85,
      "metadata": {
        "colab": {
          "base_uri": "https://localhost:8080/",
          "height": 143
        },
        "id": "cEDfoQPm9fGC",
        "outputId": "a8346bfb-fd46-4fa7-e72b-fd9d4b597d3e"
      },
      "outputs": [
        {
          "data": {
            "text/html": [
              "<div>\n",
              "<style scoped>\n",
              "    .dataframe tbody tr th:only-of-type {\n",
              "        vertical-align: middle;\n",
              "    }\n",
              "\n",
              "    .dataframe tbody tr th {\n",
              "        vertical-align: top;\n",
              "    }\n",
              "\n",
              "    .dataframe thead th {\n",
              "        text-align: right;\n",
              "    }\n",
              "</style>\n",
              "<table border=\"1\" class=\"dataframe\">\n",
              "  <thead>\n",
              "    <tr style=\"text-align: right;\">\n",
              "      <th></th>\n",
              "      <th>clientid</th>\n",
              "      <th>income</th>\n",
              "      <th>age</th>\n",
              "      <th>loan</th>\n",
              "      <th>default</th>\n",
              "    </tr>\n",
              "  </thead>\n",
              "  <tbody>\n",
              "    <tr>\n",
              "      <th>15</th>\n",
              "      <td>16</td>\n",
              "      <td>50501.726689</td>\n",
              "      <td>-28.218361</td>\n",
              "      <td>3977.287432</td>\n",
              "      <td>0</td>\n",
              "    </tr>\n",
              "    <tr>\n",
              "      <th>21</th>\n",
              "      <td>22</td>\n",
              "      <td>32197.620701</td>\n",
              "      <td>-52.423280</td>\n",
              "      <td>4244.057136</td>\n",
              "      <td>0</td>\n",
              "    </tr>\n",
              "    <tr>\n",
              "      <th>26</th>\n",
              "      <td>27</td>\n",
              "      <td>63287.038908</td>\n",
              "      <td>-36.496976</td>\n",
              "      <td>9595.286289</td>\n",
              "      <td>0</td>\n",
              "    </tr>\n",
              "  </tbody>\n",
              "</table>\n",
              "</div>"
            ],
            "text/plain": [
              "    clientid        income        age         loan  default\n",
              "15        16  50501.726689 -28.218361  3977.287432        0\n",
              "21        22  32197.620701 -52.423280  4244.057136        0\n",
              "26        27  63287.038908 -36.496976  9595.286289        0"
            ]
          },
          "execution_count": 85,
          "metadata": {},
          "output_type": "execute_result"
        }
      ],
      "source": [
        "base_credit.loc[base_credit['age'] < 0]"
      ]
    },
    {
      "cell_type": "code",
      "execution_count": 86,
      "metadata": {
        "colab": {
          "base_uri": "https://localhost:8080/",
          "height": 143
        },
        "id": "QUvCahuVEDRK",
        "outputId": "9b94a605-0365-48e2-9cc9-58d758654343"
      },
      "outputs": [
        {
          "data": {
            "text/html": [
              "<div>\n",
              "<style scoped>\n",
              "    .dataframe tbody tr th:only-of-type {\n",
              "        vertical-align: middle;\n",
              "    }\n",
              "\n",
              "    .dataframe tbody tr th {\n",
              "        vertical-align: top;\n",
              "    }\n",
              "\n",
              "    .dataframe thead th {\n",
              "        text-align: right;\n",
              "    }\n",
              "</style>\n",
              "<table border=\"1\" class=\"dataframe\">\n",
              "  <thead>\n",
              "    <tr style=\"text-align: right;\">\n",
              "      <th></th>\n",
              "      <th>clientid</th>\n",
              "      <th>income</th>\n",
              "      <th>age</th>\n",
              "      <th>loan</th>\n",
              "      <th>default</th>\n",
              "    </tr>\n",
              "  </thead>\n",
              "  <tbody>\n",
              "    <tr>\n",
              "      <th>15</th>\n",
              "      <td>16</td>\n",
              "      <td>50501.726689</td>\n",
              "      <td>-28.218361</td>\n",
              "      <td>3977.287432</td>\n",
              "      <td>0</td>\n",
              "    </tr>\n",
              "    <tr>\n",
              "      <th>21</th>\n",
              "      <td>22</td>\n",
              "      <td>32197.620701</td>\n",
              "      <td>-52.423280</td>\n",
              "      <td>4244.057136</td>\n",
              "      <td>0</td>\n",
              "    </tr>\n",
              "    <tr>\n",
              "      <th>26</th>\n",
              "      <td>27</td>\n",
              "      <td>63287.038908</td>\n",
              "      <td>-36.496976</td>\n",
              "      <td>9595.286289</td>\n",
              "      <td>0</td>\n",
              "    </tr>\n",
              "  </tbody>\n",
              "</table>\n",
              "</div>"
            ],
            "text/plain": [
              "    clientid        income        age         loan  default\n",
              "15        16  50501.726689 -28.218361  3977.287432        0\n",
              "21        22  32197.620701 -52.423280  4244.057136        0\n",
              "26        27  63287.038908 -36.496976  9595.286289        0"
            ]
          },
          "execution_count": 86,
          "metadata": {},
          "output_type": "execute_result"
        }
      ],
      "source": [
        "base_credit[base_credit['age'] < 0]"
      ]
    },
    {
      "cell_type": "code",
      "execution_count": 87,
      "metadata": {
        "colab": {
          "base_uri": "https://localhost:8080/",
          "height": 423
        },
        "id": "Z1ulraQMEVH0",
        "outputId": "fd4da7fb-f5bf-4854-e152-a12eafe4c0ce"
      },
      "outputs": [
        {
          "data": {
            "text/html": [
              "<div>\n",
              "<style scoped>\n",
              "    .dataframe tbody tr th:only-of-type {\n",
              "        vertical-align: middle;\n",
              "    }\n",
              "\n",
              "    .dataframe tbody tr th {\n",
              "        vertical-align: top;\n",
              "    }\n",
              "\n",
              "    .dataframe thead th {\n",
              "        text-align: right;\n",
              "    }\n",
              "</style>\n",
              "<table border=\"1\" class=\"dataframe\">\n",
              "  <thead>\n",
              "    <tr style=\"text-align: right;\">\n",
              "      <th></th>\n",
              "      <th>clientid</th>\n",
              "      <th>income</th>\n",
              "      <th>loan</th>\n",
              "      <th>default</th>\n",
              "    </tr>\n",
              "  </thead>\n",
              "  <tbody>\n",
              "    <tr>\n",
              "      <th>0</th>\n",
              "      <td>1</td>\n",
              "      <td>66155.925095</td>\n",
              "      <td>8106.532131</td>\n",
              "      <td>0</td>\n",
              "    </tr>\n",
              "    <tr>\n",
              "      <th>1</th>\n",
              "      <td>2</td>\n",
              "      <td>34415.153966</td>\n",
              "      <td>6564.745018</td>\n",
              "      <td>0</td>\n",
              "    </tr>\n",
              "    <tr>\n",
              "      <th>2</th>\n",
              "      <td>3</td>\n",
              "      <td>57317.170063</td>\n",
              "      <td>8020.953296</td>\n",
              "      <td>0</td>\n",
              "    </tr>\n",
              "    <tr>\n",
              "      <th>3</th>\n",
              "      <td>4</td>\n",
              "      <td>42709.534201</td>\n",
              "      <td>6103.642260</td>\n",
              "      <td>0</td>\n",
              "    </tr>\n",
              "    <tr>\n",
              "      <th>4</th>\n",
              "      <td>5</td>\n",
              "      <td>66952.688845</td>\n",
              "      <td>8770.099235</td>\n",
              "      <td>1</td>\n",
              "    </tr>\n",
              "    <tr>\n",
              "      <th>...</th>\n",
              "      <td>...</td>\n",
              "      <td>...</td>\n",
              "      <td>...</td>\n",
              "      <td>...</td>\n",
              "    </tr>\n",
              "    <tr>\n",
              "      <th>1995</th>\n",
              "      <td>1996</td>\n",
              "      <td>59221.044874</td>\n",
              "      <td>1926.729397</td>\n",
              "      <td>0</td>\n",
              "    </tr>\n",
              "    <tr>\n",
              "      <th>1996</th>\n",
              "      <td>1997</td>\n",
              "      <td>69516.127573</td>\n",
              "      <td>3503.176156</td>\n",
              "      <td>0</td>\n",
              "    </tr>\n",
              "    <tr>\n",
              "      <th>1997</th>\n",
              "      <td>1998</td>\n",
              "      <td>44311.449262</td>\n",
              "      <td>5522.786693</td>\n",
              "      <td>1</td>\n",
              "    </tr>\n",
              "    <tr>\n",
              "      <th>1998</th>\n",
              "      <td>1999</td>\n",
              "      <td>43756.056605</td>\n",
              "      <td>1622.722598</td>\n",
              "      <td>0</td>\n",
              "    </tr>\n",
              "    <tr>\n",
              "      <th>1999</th>\n",
              "      <td>2000</td>\n",
              "      <td>69436.579552</td>\n",
              "      <td>7378.833599</td>\n",
              "      <td>0</td>\n",
              "    </tr>\n",
              "  </tbody>\n",
              "</table>\n",
              "<p>2000 rows × 4 columns</p>\n",
              "</div>"
            ],
            "text/plain": [
              "      clientid        income         loan  default\n",
              "0            1  66155.925095  8106.532131        0\n",
              "1            2  34415.153966  6564.745018        0\n",
              "2            3  57317.170063  8020.953296        0\n",
              "3            4  42709.534201  6103.642260        0\n",
              "4            5  66952.688845  8770.099235        1\n",
              "...        ...           ...          ...      ...\n",
              "1995      1996  59221.044874  1926.729397        0\n",
              "1996      1997  69516.127573  3503.176156        0\n",
              "1997      1998  44311.449262  5522.786693        1\n",
              "1998      1999  43756.056605  1622.722598        0\n",
              "1999      2000  69436.579552  7378.833599        0\n",
              "\n",
              "[2000 rows x 4 columns]"
            ]
          },
          "execution_count": 87,
          "metadata": {},
          "output_type": "execute_result"
        }
      ],
      "source": [
        "#Apaga a coluna inteira(de todos os registros da base da dados)\n",
        "base_credit2 = base_credit.drop('age', axis = 1)\n",
        "base_credit2"
      ]
    },
    {
      "cell_type": "code",
      "execution_count": 88,
      "metadata": {
        "colab": {
          "base_uri": "https://localhost:8080/"
        },
        "id": "f5CfYj_fFUsj",
        "outputId": "c2189f35-8eb8-4899-fab4-fa835da55363"
      },
      "outputs": [
        {
          "data": {
            "text/plain": [
              "RangeIndex(start=0, stop=2000, step=1)"
            ]
          },
          "execution_count": 88,
          "metadata": {},
          "output_type": "execute_result"
        }
      ],
      "source": [
        "base_credit.index"
      ]
    },
    {
      "cell_type": "code",
      "execution_count": 89,
      "metadata": {
        "colab": {
          "base_uri": "https://localhost:8080/"
        },
        "id": "2TZy0AwNFbD_",
        "outputId": "4f65696e-1de9-4575-9bca-cdb1e548013d"
      },
      "outputs": [
        {
          "data": {
            "text/plain": [
              "Index([15, 21, 26], dtype='int64')"
            ]
          },
          "execution_count": 89,
          "metadata": {},
          "output_type": "execute_result"
        }
      ],
      "source": [
        "base_credit[base_credit['age'] < 0].index"
      ]
    },
    {
      "cell_type": "code",
      "execution_count": 90,
      "metadata": {
        "colab": {
          "base_uri": "https://localhost:8080/",
          "height": 423
        },
        "id": "zRvZetC7E1GY",
        "outputId": "623cb763-d7f3-4352-8efb-0630e0592d1c"
      },
      "outputs": [
        {
          "data": {
            "text/html": [
              "<div>\n",
              "<style scoped>\n",
              "    .dataframe tbody tr th:only-of-type {\n",
              "        vertical-align: middle;\n",
              "    }\n",
              "\n",
              "    .dataframe tbody tr th {\n",
              "        vertical-align: top;\n",
              "    }\n",
              "\n",
              "    .dataframe thead th {\n",
              "        text-align: right;\n",
              "    }\n",
              "</style>\n",
              "<table border=\"1\" class=\"dataframe\">\n",
              "  <thead>\n",
              "    <tr style=\"text-align: right;\">\n",
              "      <th></th>\n",
              "      <th>clientid</th>\n",
              "      <th>income</th>\n",
              "      <th>age</th>\n",
              "      <th>loan</th>\n",
              "      <th>default</th>\n",
              "    </tr>\n",
              "  </thead>\n",
              "  <tbody>\n",
              "    <tr>\n",
              "      <th>0</th>\n",
              "      <td>1</td>\n",
              "      <td>66155.925095</td>\n",
              "      <td>59.017015</td>\n",
              "      <td>8106.532131</td>\n",
              "      <td>0</td>\n",
              "    </tr>\n",
              "    <tr>\n",
              "      <th>1</th>\n",
              "      <td>2</td>\n",
              "      <td>34415.153966</td>\n",
              "      <td>48.117153</td>\n",
              "      <td>6564.745018</td>\n",
              "      <td>0</td>\n",
              "    </tr>\n",
              "    <tr>\n",
              "      <th>2</th>\n",
              "      <td>3</td>\n",
              "      <td>57317.170063</td>\n",
              "      <td>63.108049</td>\n",
              "      <td>8020.953296</td>\n",
              "      <td>0</td>\n",
              "    </tr>\n",
              "    <tr>\n",
              "      <th>3</th>\n",
              "      <td>4</td>\n",
              "      <td>42709.534201</td>\n",
              "      <td>45.751972</td>\n",
              "      <td>6103.642260</td>\n",
              "      <td>0</td>\n",
              "    </tr>\n",
              "    <tr>\n",
              "      <th>4</th>\n",
              "      <td>5</td>\n",
              "      <td>66952.688845</td>\n",
              "      <td>18.584336</td>\n",
              "      <td>8770.099235</td>\n",
              "      <td>1</td>\n",
              "    </tr>\n",
              "    <tr>\n",
              "      <th>...</th>\n",
              "      <td>...</td>\n",
              "      <td>...</td>\n",
              "      <td>...</td>\n",
              "      <td>...</td>\n",
              "      <td>...</td>\n",
              "    </tr>\n",
              "    <tr>\n",
              "      <th>1995</th>\n",
              "      <td>1996</td>\n",
              "      <td>59221.044874</td>\n",
              "      <td>48.518179</td>\n",
              "      <td>1926.729397</td>\n",
              "      <td>0</td>\n",
              "    </tr>\n",
              "    <tr>\n",
              "      <th>1996</th>\n",
              "      <td>1997</td>\n",
              "      <td>69516.127573</td>\n",
              "      <td>23.162104</td>\n",
              "      <td>3503.176156</td>\n",
              "      <td>0</td>\n",
              "    </tr>\n",
              "    <tr>\n",
              "      <th>1997</th>\n",
              "      <td>1998</td>\n",
              "      <td>44311.449262</td>\n",
              "      <td>28.017167</td>\n",
              "      <td>5522.786693</td>\n",
              "      <td>1</td>\n",
              "    </tr>\n",
              "    <tr>\n",
              "      <th>1998</th>\n",
              "      <td>1999</td>\n",
              "      <td>43756.056605</td>\n",
              "      <td>63.971796</td>\n",
              "      <td>1622.722598</td>\n",
              "      <td>0</td>\n",
              "    </tr>\n",
              "    <tr>\n",
              "      <th>1999</th>\n",
              "      <td>2000</td>\n",
              "      <td>69436.579552</td>\n",
              "      <td>56.152617</td>\n",
              "      <td>7378.833599</td>\n",
              "      <td>0</td>\n",
              "    </tr>\n",
              "  </tbody>\n",
              "</table>\n",
              "<p>1997 rows × 5 columns</p>\n",
              "</div>"
            ],
            "text/plain": [
              "      clientid        income        age         loan  default\n",
              "0            1  66155.925095  59.017015  8106.532131        0\n",
              "1            2  34415.153966  48.117153  6564.745018        0\n",
              "2            3  57317.170063  63.108049  8020.953296        0\n",
              "3            4  42709.534201  45.751972  6103.642260        0\n",
              "4            5  66952.688845  18.584336  8770.099235        1\n",
              "...        ...           ...        ...          ...      ...\n",
              "1995      1996  59221.044874  48.518179  1926.729397        0\n",
              "1996      1997  69516.127573  23.162104  3503.176156        0\n",
              "1997      1998  44311.449262  28.017167  5522.786693        1\n",
              "1998      1999  43756.056605  63.971796  1622.722598        0\n",
              "1999      2000  69436.579552  56.152617  7378.833599        0\n",
              "\n",
              "[1997 rows x 5 columns]"
            ]
          },
          "execution_count": 90,
          "metadata": {},
          "output_type": "execute_result"
        }
      ],
      "source": [
        "#Apagar somente os registros com valores inconsistentes\n",
        "base_credit3 = base_credit.drop(base_credit[base_credit['age'] < 0].index)\n",
        "base_credit3"
      ]
    },
    {
      "cell_type": "code",
      "execution_count": 91,
      "metadata": {
        "colab": {
          "base_uri": "https://localhost:8080/",
          "height": 53
        },
        "id": "Cmyrbew5F1lv",
        "outputId": "69a08dee-f58e-4a8b-ec51-b1a21b4cc728"
      },
      "outputs": [
        {
          "data": {
            "text/html": [
              "<div>\n",
              "<style scoped>\n",
              "    .dataframe tbody tr th:only-of-type {\n",
              "        vertical-align: middle;\n",
              "    }\n",
              "\n",
              "    .dataframe tbody tr th {\n",
              "        vertical-align: top;\n",
              "    }\n",
              "\n",
              "    .dataframe thead th {\n",
              "        text-align: right;\n",
              "    }\n",
              "</style>\n",
              "<table border=\"1\" class=\"dataframe\">\n",
              "  <thead>\n",
              "    <tr style=\"text-align: right;\">\n",
              "      <th></th>\n",
              "      <th>clientid</th>\n",
              "      <th>income</th>\n",
              "      <th>age</th>\n",
              "      <th>loan</th>\n",
              "      <th>default</th>\n",
              "    </tr>\n",
              "  </thead>\n",
              "  <tbody>\n",
              "  </tbody>\n",
              "</table>\n",
              "</div>"
            ],
            "text/plain": [
              "Empty DataFrame\n",
              "Columns: [clientid, income, age, loan, default]\n",
              "Index: []"
            ]
          },
          "execution_count": 91,
          "metadata": {},
          "output_type": "execute_result"
        }
      ],
      "source": [
        "base_credit3.loc[base_credit3['age'] < 0]"
      ]
    },
    {
      "cell_type": "code",
      "execution_count": 92,
      "metadata": {
        "id": "oeDxB_Y0F7Yn"
      },
      "outputs": [],
      "source": [
        "#Preencher os valores inconsistentes manualmente"
      ]
    },
    {
      "cell_type": "code",
      "execution_count": 93,
      "metadata": {
        "colab": {
          "base_uri": "https://localhost:8080/",
          "height": 241
        },
        "id": "snwTPUSgGVTR",
        "outputId": "b4183f81-2994-45f4-c186-da0163dc5fa0"
      },
      "outputs": [
        {
          "data": {
            "text/plain": [
              "clientid     1000.500000\n",
              "income      45331.600018\n",
              "age            40.807559\n",
              "loan         4444.369695\n",
              "default         0.141500\n",
              "dtype: float64"
            ]
          },
          "execution_count": 93,
          "metadata": {},
          "output_type": "execute_result"
        }
      ],
      "source": [
        "#Preencher á média\n",
        "base_credit.mean()"
      ]
    },
    {
      "cell_type": "code",
      "execution_count": 94,
      "metadata": {
        "colab": {
          "base_uri": "https://localhost:8080/"
        },
        "id": "fUdGfTK-GdvW",
        "outputId": "2d0d7a26-33cf-4234-d6e9-df578d8460cb"
      },
      "outputs": [
        {
          "data": {
            "text/plain": [
              "40.80755937840458"
            ]
          },
          "execution_count": 94,
          "metadata": {},
          "output_type": "execute_result"
        }
      ],
      "source": [
        "base_credit['age'].mean()"
      ]
    },
    {
      "cell_type": "code",
      "execution_count": 95,
      "metadata": {
        "colab": {
          "base_uri": "https://localhost:8080/"
        },
        "id": "cEH-jMMHGm59",
        "outputId": "1aef71b2-eada-4c78-a210-f0a9c9c403b4"
      },
      "outputs": [
        {
          "data": {
            "text/plain": [
              "40.92770044906149"
            ]
          },
          "execution_count": 95,
          "metadata": {},
          "output_type": "execute_result"
        }
      ],
      "source": [
        "base_credit['age'][base_credit['age'] > 0].mean()"
      ]
    },
    {
      "cell_type": "code",
      "execution_count": 96,
      "metadata": {
        "id": "rTL9TsHBG6FU"
      },
      "outputs": [],
      "source": [
        "base_credit.loc[base_credit['age'] < 0, 'age'] = 40.92"
      ]
    },
    {
      "cell_type": "code",
      "execution_count": 97,
      "metadata": {
        "colab": {
          "base_uri": "https://localhost:8080/",
          "height": 53
        },
        "id": "XpLP6rzLHHYn",
        "outputId": "075df6b0-a8f0-45ad-b0b0-2d926d3b21f7"
      },
      "outputs": [
        {
          "data": {
            "text/html": [
              "<div>\n",
              "<style scoped>\n",
              "    .dataframe tbody tr th:only-of-type {\n",
              "        vertical-align: middle;\n",
              "    }\n",
              "\n",
              "    .dataframe tbody tr th {\n",
              "        vertical-align: top;\n",
              "    }\n",
              "\n",
              "    .dataframe thead th {\n",
              "        text-align: right;\n",
              "    }\n",
              "</style>\n",
              "<table border=\"1\" class=\"dataframe\">\n",
              "  <thead>\n",
              "    <tr style=\"text-align: right;\">\n",
              "      <th></th>\n",
              "      <th>clientid</th>\n",
              "      <th>income</th>\n",
              "      <th>age</th>\n",
              "      <th>loan</th>\n",
              "      <th>default</th>\n",
              "    </tr>\n",
              "  </thead>\n",
              "  <tbody>\n",
              "  </tbody>\n",
              "</table>\n",
              "</div>"
            ],
            "text/plain": [
              "Empty DataFrame\n",
              "Columns: [clientid, income, age, loan, default]\n",
              "Index: []"
            ]
          },
          "execution_count": 97,
          "metadata": {},
          "output_type": "execute_result"
        }
      ],
      "source": [
        "base_credit.loc[base_credit['age'] < 0]"
      ]
    },
    {
      "cell_type": "code",
      "execution_count": 98,
      "metadata": {
        "colab": {
          "base_uri": "https://localhost:8080/",
          "height": 363
        },
        "id": "AyzYyP8aHcHe",
        "outputId": "87c4babb-cba0-47af-cc4c-2242f0824c07"
      },
      "outputs": [
        {
          "data": {
            "text/html": [
              "<div>\n",
              "<style scoped>\n",
              "    .dataframe tbody tr th:only-of-type {\n",
              "        vertical-align: middle;\n",
              "    }\n",
              "\n",
              "    .dataframe tbody tr th {\n",
              "        vertical-align: top;\n",
              "    }\n",
              "\n",
              "    .dataframe thead th {\n",
              "        text-align: right;\n",
              "    }\n",
              "</style>\n",
              "<table border=\"1\" class=\"dataframe\">\n",
              "  <thead>\n",
              "    <tr style=\"text-align: right;\">\n",
              "      <th></th>\n",
              "      <th>clientid</th>\n",
              "      <th>income</th>\n",
              "      <th>age</th>\n",
              "      <th>loan</th>\n",
              "      <th>default</th>\n",
              "    </tr>\n",
              "  </thead>\n",
              "  <tbody>\n",
              "    <tr>\n",
              "      <th>0</th>\n",
              "      <td>1</td>\n",
              "      <td>66155.925095</td>\n",
              "      <td>59.017015</td>\n",
              "      <td>8106.532131</td>\n",
              "      <td>0</td>\n",
              "    </tr>\n",
              "    <tr>\n",
              "      <th>1</th>\n",
              "      <td>2</td>\n",
              "      <td>34415.153966</td>\n",
              "      <td>48.117153</td>\n",
              "      <td>6564.745018</td>\n",
              "      <td>0</td>\n",
              "    </tr>\n",
              "    <tr>\n",
              "      <th>2</th>\n",
              "      <td>3</td>\n",
              "      <td>57317.170063</td>\n",
              "      <td>63.108049</td>\n",
              "      <td>8020.953296</td>\n",
              "      <td>0</td>\n",
              "    </tr>\n",
              "    <tr>\n",
              "      <th>3</th>\n",
              "      <td>4</td>\n",
              "      <td>42709.534201</td>\n",
              "      <td>45.751972</td>\n",
              "      <td>6103.642260</td>\n",
              "      <td>0</td>\n",
              "    </tr>\n",
              "    <tr>\n",
              "      <th>4</th>\n",
              "      <td>5</td>\n",
              "      <td>66952.688845</td>\n",
              "      <td>18.584336</td>\n",
              "      <td>8770.099235</td>\n",
              "      <td>1</td>\n",
              "    </tr>\n",
              "    <tr>\n",
              "      <th>5</th>\n",
              "      <td>6</td>\n",
              "      <td>24904.064140</td>\n",
              "      <td>57.471607</td>\n",
              "      <td>15.498598</td>\n",
              "      <td>0</td>\n",
              "    </tr>\n",
              "    <tr>\n",
              "      <th>6</th>\n",
              "      <td>7</td>\n",
              "      <td>48430.359613</td>\n",
              "      <td>26.809132</td>\n",
              "      <td>5722.581981</td>\n",
              "      <td>0</td>\n",
              "    </tr>\n",
              "    <tr>\n",
              "      <th>7</th>\n",
              "      <td>8</td>\n",
              "      <td>24500.141984</td>\n",
              "      <td>32.897548</td>\n",
              "      <td>2971.003310</td>\n",
              "      <td>1</td>\n",
              "    </tr>\n",
              "    <tr>\n",
              "      <th>8</th>\n",
              "      <td>9</td>\n",
              "      <td>40654.892537</td>\n",
              "      <td>55.496853</td>\n",
              "      <td>4755.825280</td>\n",
              "      <td>0</td>\n",
              "    </tr>\n",
              "    <tr>\n",
              "      <th>9</th>\n",
              "      <td>10</td>\n",
              "      <td>25075.872771</td>\n",
              "      <td>39.776378</td>\n",
              "      <td>1409.230371</td>\n",
              "      <td>0</td>\n",
              "    </tr>\n",
              "  </tbody>\n",
              "</table>\n",
              "</div>"
            ],
            "text/plain": [
              "   clientid        income        age         loan  default\n",
              "0         1  66155.925095  59.017015  8106.532131        0\n",
              "1         2  34415.153966  48.117153  6564.745018        0\n",
              "2         3  57317.170063  63.108049  8020.953296        0\n",
              "3         4  42709.534201  45.751972  6103.642260        0\n",
              "4         5  66952.688845  18.584336  8770.099235        1\n",
              "5         6  24904.064140  57.471607    15.498598        0\n",
              "6         7  48430.359613  26.809132  5722.581981        0\n",
              "7         8  24500.141984  32.897548  2971.003310        1\n",
              "8         9  40654.892537  55.496853  4755.825280        0\n",
              "9        10  25075.872771  39.776378  1409.230371        0"
            ]
          },
          "execution_count": 98,
          "metadata": {},
          "output_type": "execute_result"
        }
      ],
      "source": [
        "base_credit.head(10)"
      ]
    },
    {
      "cell_type": "markdown",
      "metadata": {
        "id": "K3EhNFJhJ75T"
      },
      "source": [
        "## Tratamento de valores faltantes"
      ]
    },
    {
      "cell_type": "code",
      "execution_count": 99,
      "metadata": {
        "colab": {
          "base_uri": "https://localhost:8080/",
          "height": 423
        },
        "id": "e9hg62oNKGCM",
        "outputId": "7a8c4fd8-d633-4fba-f27d-52fa6308d846"
      },
      "outputs": [
        {
          "data": {
            "text/html": [
              "<div>\n",
              "<style scoped>\n",
              "    .dataframe tbody tr th:only-of-type {\n",
              "        vertical-align: middle;\n",
              "    }\n",
              "\n",
              "    .dataframe tbody tr th {\n",
              "        vertical-align: top;\n",
              "    }\n",
              "\n",
              "    .dataframe thead th {\n",
              "        text-align: right;\n",
              "    }\n",
              "</style>\n",
              "<table border=\"1\" class=\"dataframe\">\n",
              "  <thead>\n",
              "    <tr style=\"text-align: right;\">\n",
              "      <th></th>\n",
              "      <th>clientid</th>\n",
              "      <th>income</th>\n",
              "      <th>age</th>\n",
              "      <th>loan</th>\n",
              "      <th>default</th>\n",
              "    </tr>\n",
              "  </thead>\n",
              "  <tbody>\n",
              "    <tr>\n",
              "      <th>0</th>\n",
              "      <td>False</td>\n",
              "      <td>False</td>\n",
              "      <td>False</td>\n",
              "      <td>False</td>\n",
              "      <td>False</td>\n",
              "    </tr>\n",
              "    <tr>\n",
              "      <th>1</th>\n",
              "      <td>False</td>\n",
              "      <td>False</td>\n",
              "      <td>False</td>\n",
              "      <td>False</td>\n",
              "      <td>False</td>\n",
              "    </tr>\n",
              "    <tr>\n",
              "      <th>2</th>\n",
              "      <td>False</td>\n",
              "      <td>False</td>\n",
              "      <td>False</td>\n",
              "      <td>False</td>\n",
              "      <td>False</td>\n",
              "    </tr>\n",
              "    <tr>\n",
              "      <th>3</th>\n",
              "      <td>False</td>\n",
              "      <td>False</td>\n",
              "      <td>False</td>\n",
              "      <td>False</td>\n",
              "      <td>False</td>\n",
              "    </tr>\n",
              "    <tr>\n",
              "      <th>4</th>\n",
              "      <td>False</td>\n",
              "      <td>False</td>\n",
              "      <td>False</td>\n",
              "      <td>False</td>\n",
              "      <td>False</td>\n",
              "    </tr>\n",
              "    <tr>\n",
              "      <th>...</th>\n",
              "      <td>...</td>\n",
              "      <td>...</td>\n",
              "      <td>...</td>\n",
              "      <td>...</td>\n",
              "      <td>...</td>\n",
              "    </tr>\n",
              "    <tr>\n",
              "      <th>1995</th>\n",
              "      <td>False</td>\n",
              "      <td>False</td>\n",
              "      <td>False</td>\n",
              "      <td>False</td>\n",
              "      <td>False</td>\n",
              "    </tr>\n",
              "    <tr>\n",
              "      <th>1996</th>\n",
              "      <td>False</td>\n",
              "      <td>False</td>\n",
              "      <td>False</td>\n",
              "      <td>False</td>\n",
              "      <td>False</td>\n",
              "    </tr>\n",
              "    <tr>\n",
              "      <th>1997</th>\n",
              "      <td>False</td>\n",
              "      <td>False</td>\n",
              "      <td>False</td>\n",
              "      <td>False</td>\n",
              "      <td>False</td>\n",
              "    </tr>\n",
              "    <tr>\n",
              "      <th>1998</th>\n",
              "      <td>False</td>\n",
              "      <td>False</td>\n",
              "      <td>False</td>\n",
              "      <td>False</td>\n",
              "      <td>False</td>\n",
              "    </tr>\n",
              "    <tr>\n",
              "      <th>1999</th>\n",
              "      <td>False</td>\n",
              "      <td>False</td>\n",
              "      <td>False</td>\n",
              "      <td>False</td>\n",
              "      <td>False</td>\n",
              "    </tr>\n",
              "  </tbody>\n",
              "</table>\n",
              "<p>2000 rows × 5 columns</p>\n",
              "</div>"
            ],
            "text/plain": [
              "      clientid  income    age   loan  default\n",
              "0        False   False  False  False    False\n",
              "1        False   False  False  False    False\n",
              "2        False   False  False  False    False\n",
              "3        False   False  False  False    False\n",
              "4        False   False  False  False    False\n",
              "...        ...     ...    ...    ...      ...\n",
              "1995     False   False  False  False    False\n",
              "1996     False   False  False  False    False\n",
              "1997     False   False  False  False    False\n",
              "1998     False   False  False  False    False\n",
              "1999     False   False  False  False    False\n",
              "\n",
              "[2000 rows x 5 columns]"
            ]
          },
          "execution_count": 99,
          "metadata": {},
          "output_type": "execute_result"
        }
      ],
      "source": [
        "base_credit.isnull()"
      ]
    },
    {
      "cell_type": "code",
      "execution_count": 100,
      "metadata": {
        "colab": {
          "base_uri": "https://localhost:8080/",
          "height": 241
        },
        "id": "F5Uh6B4wKeP1",
        "outputId": "ed210547-e0c2-40e7-8fd4-5da155806449"
      },
      "outputs": [
        {
          "data": {
            "text/plain": [
              "clientid    0\n",
              "income      0\n",
              "age         3\n",
              "loan        0\n",
              "default     0\n",
              "dtype: int64"
            ]
          },
          "execution_count": 100,
          "metadata": {},
          "output_type": "execute_result"
        }
      ],
      "source": [
        "base_credit.isnull().sum()"
      ]
    },
    {
      "cell_type": "code",
      "execution_count": 101,
      "metadata": {
        "colab": {
          "base_uri": "https://localhost:8080/",
          "height": 143
        },
        "id": "u9boDrGsKdiQ",
        "outputId": "74e8d40c-1562-4e5a-be66-7bef4fa634b5"
      },
      "outputs": [
        {
          "data": {
            "text/html": [
              "<div>\n",
              "<style scoped>\n",
              "    .dataframe tbody tr th:only-of-type {\n",
              "        vertical-align: middle;\n",
              "    }\n",
              "\n",
              "    .dataframe tbody tr th {\n",
              "        vertical-align: top;\n",
              "    }\n",
              "\n",
              "    .dataframe thead th {\n",
              "        text-align: right;\n",
              "    }\n",
              "</style>\n",
              "<table border=\"1\" class=\"dataframe\">\n",
              "  <thead>\n",
              "    <tr style=\"text-align: right;\">\n",
              "      <th></th>\n",
              "      <th>clientid</th>\n",
              "      <th>income</th>\n",
              "      <th>age</th>\n",
              "      <th>loan</th>\n",
              "      <th>default</th>\n",
              "    </tr>\n",
              "  </thead>\n",
              "  <tbody>\n",
              "    <tr>\n",
              "      <th>28</th>\n",
              "      <td>29</td>\n",
              "      <td>59417.805406</td>\n",
              "      <td>NaN</td>\n",
              "      <td>2082.625938</td>\n",
              "      <td>0</td>\n",
              "    </tr>\n",
              "    <tr>\n",
              "      <th>30</th>\n",
              "      <td>31</td>\n",
              "      <td>48528.852796</td>\n",
              "      <td>NaN</td>\n",
              "      <td>6155.784670</td>\n",
              "      <td>0</td>\n",
              "    </tr>\n",
              "    <tr>\n",
              "      <th>31</th>\n",
              "      <td>32</td>\n",
              "      <td>23526.302555</td>\n",
              "      <td>NaN</td>\n",
              "      <td>2862.010139</td>\n",
              "      <td>0</td>\n",
              "    </tr>\n",
              "  </tbody>\n",
              "</table>\n",
              "</div>"
            ],
            "text/plain": [
              "    clientid        income  age         loan  default\n",
              "28        29  59417.805406  NaN  2082.625938        0\n",
              "30        31  48528.852796  NaN  6155.784670        0\n",
              "31        32  23526.302555  NaN  2862.010139        0"
            ]
          },
          "execution_count": 101,
          "metadata": {},
          "output_type": "execute_result"
        }
      ],
      "source": [
        "base_credit.loc[pd.isnull(base_credit['age'])]"
      ]
    },
    {
      "cell_type": "code",
      "execution_count": 102,
      "metadata": {
        "colab": {
          "base_uri": "https://localhost:8080/"
        },
        "id": "R2fjU-LuK4q9",
        "outputId": "2f1dcdf6-8dff-4546-ce5e-fbed526470db"
      },
      "outputs": [
        {
          "name": "stderr",
          "output_type": "stream",
          "text": [
            "C:\\Users\\gabri\\AppData\\Local\\Temp\\ipykernel_26112\\1787667511.py:1: FutureWarning:\n",
            "\n",
            "A value is trying to be set on a copy of a DataFrame or Series through chained assignment using an inplace method.\n",
            "The behavior will change in pandas 3.0. This inplace method will never work because the intermediate object on which we are setting values always behaves as a copy.\n",
            "\n",
            "For example, when doing 'df[col].method(value, inplace=True)', try using 'df.method({col: value}, inplace=True)' or df[col] = df[col].method(value) instead, to perform the operation inplace on the original object.\n",
            "\n",
            "\n",
            "\n"
          ]
        }
      ],
      "source": [
        "base_credit['age'].fillna(base_credit['age'].mean(), inplace = True)"
      ]
    },
    {
      "cell_type": "code",
      "execution_count": 103,
      "metadata": {
        "colab": {
          "base_uri": "https://localhost:8080/",
          "height": 53
        },
        "id": "I7Nx1_BMLzdf",
        "outputId": "e00f1870-ddde-4c1f-914b-53be3dee1adc"
      },
      "outputs": [
        {
          "data": {
            "text/html": [
              "<div>\n",
              "<style scoped>\n",
              "    .dataframe tbody tr th:only-of-type {\n",
              "        vertical-align: middle;\n",
              "    }\n",
              "\n",
              "    .dataframe tbody tr th {\n",
              "        vertical-align: top;\n",
              "    }\n",
              "\n",
              "    .dataframe thead th {\n",
              "        text-align: right;\n",
              "    }\n",
              "</style>\n",
              "<table border=\"1\" class=\"dataframe\">\n",
              "  <thead>\n",
              "    <tr style=\"text-align: right;\">\n",
              "      <th></th>\n",
              "      <th>clientid</th>\n",
              "      <th>income</th>\n",
              "      <th>age</th>\n",
              "      <th>loan</th>\n",
              "      <th>default</th>\n",
              "    </tr>\n",
              "  </thead>\n",
              "  <tbody>\n",
              "  </tbody>\n",
              "</table>\n",
              "</div>"
            ],
            "text/plain": [
              "Empty DataFrame\n",
              "Columns: [clientid, income, age, loan, default]\n",
              "Index: []"
            ]
          },
          "execution_count": 103,
          "metadata": {},
          "output_type": "execute_result"
        }
      ],
      "source": [
        "base_credit.loc[pd.isnull(base_credit['age'])]"
      ]
    },
    {
      "cell_type": "code",
      "execution_count": 104,
      "metadata": {
        "colab": {
          "base_uri": "https://localhost:8080/",
          "height": 143
        },
        "id": "EiPvSYhHMVKg",
        "outputId": "4a0f1d56-ec67-4c0f-d130-b6decc439373"
      },
      "outputs": [
        {
          "data": {
            "text/html": [
              "<div>\n",
              "<style scoped>\n",
              "    .dataframe tbody tr th:only-of-type {\n",
              "        vertical-align: middle;\n",
              "    }\n",
              "\n",
              "    .dataframe tbody tr th {\n",
              "        vertical-align: top;\n",
              "    }\n",
              "\n",
              "    .dataframe thead th {\n",
              "        text-align: right;\n",
              "    }\n",
              "</style>\n",
              "<table border=\"1\" class=\"dataframe\">\n",
              "  <thead>\n",
              "    <tr style=\"text-align: right;\">\n",
              "      <th></th>\n",
              "      <th>clientid</th>\n",
              "      <th>income</th>\n",
              "      <th>age</th>\n",
              "      <th>loan</th>\n",
              "      <th>default</th>\n",
              "    </tr>\n",
              "  </thead>\n",
              "  <tbody>\n",
              "    <tr>\n",
              "      <th>28</th>\n",
              "      <td>29</td>\n",
              "      <td>59417.805406</td>\n",
              "      <td>40.927689</td>\n",
              "      <td>2082.625938</td>\n",
              "      <td>0</td>\n",
              "    </tr>\n",
              "    <tr>\n",
              "      <th>30</th>\n",
              "      <td>31</td>\n",
              "      <td>48528.852796</td>\n",
              "      <td>40.927689</td>\n",
              "      <td>6155.784670</td>\n",
              "      <td>0</td>\n",
              "    </tr>\n",
              "    <tr>\n",
              "      <th>31</th>\n",
              "      <td>32</td>\n",
              "      <td>23526.302555</td>\n",
              "      <td>40.927689</td>\n",
              "      <td>2862.010139</td>\n",
              "      <td>0</td>\n",
              "    </tr>\n",
              "  </tbody>\n",
              "</table>\n",
              "</div>"
            ],
            "text/plain": [
              "    clientid        income        age         loan  default\n",
              "28        29  59417.805406  40.927689  2082.625938        0\n",
              "30        31  48528.852796  40.927689  6155.784670        0\n",
              "31        32  23526.302555  40.927689  2862.010139        0"
            ]
          },
          "execution_count": 104,
          "metadata": {},
          "output_type": "execute_result"
        }
      ],
      "source": [
        "base_credit.loc[(base_credit['clientid'] == 29) | (base_credit['clientid'] == 31) | (base_credit['clientid'] == 32)]"
      ]
    },
    {
      "cell_type": "code",
      "execution_count": 105,
      "metadata": {
        "colab": {
          "base_uri": "https://localhost:8080/",
          "height": 143
        },
        "id": "1W-pOPCBNASU",
        "outputId": "f8c2b4d8-4791-4fb4-a0ae-5537eade6789"
      },
      "outputs": [
        {
          "data": {
            "text/html": [
              "<div>\n",
              "<style scoped>\n",
              "    .dataframe tbody tr th:only-of-type {\n",
              "        vertical-align: middle;\n",
              "    }\n",
              "\n",
              "    .dataframe tbody tr th {\n",
              "        vertical-align: top;\n",
              "    }\n",
              "\n",
              "    .dataframe thead th {\n",
              "        text-align: right;\n",
              "    }\n",
              "</style>\n",
              "<table border=\"1\" class=\"dataframe\">\n",
              "  <thead>\n",
              "    <tr style=\"text-align: right;\">\n",
              "      <th></th>\n",
              "      <th>clientid</th>\n",
              "      <th>income</th>\n",
              "      <th>age</th>\n",
              "      <th>loan</th>\n",
              "      <th>default</th>\n",
              "    </tr>\n",
              "  </thead>\n",
              "  <tbody>\n",
              "    <tr>\n",
              "      <th>28</th>\n",
              "      <td>29</td>\n",
              "      <td>59417.805406</td>\n",
              "      <td>40.927689</td>\n",
              "      <td>2082.625938</td>\n",
              "      <td>0</td>\n",
              "    </tr>\n",
              "    <tr>\n",
              "      <th>30</th>\n",
              "      <td>31</td>\n",
              "      <td>48528.852796</td>\n",
              "      <td>40.927689</td>\n",
              "      <td>6155.784670</td>\n",
              "      <td>0</td>\n",
              "    </tr>\n",
              "    <tr>\n",
              "      <th>31</th>\n",
              "      <td>32</td>\n",
              "      <td>23526.302555</td>\n",
              "      <td>40.927689</td>\n",
              "      <td>2862.010139</td>\n",
              "      <td>0</td>\n",
              "    </tr>\n",
              "  </tbody>\n",
              "</table>\n",
              "</div>"
            ],
            "text/plain": [
              "    clientid        income        age         loan  default\n",
              "28        29  59417.805406  40.927689  2082.625938        0\n",
              "30        31  48528.852796  40.927689  6155.784670        0\n",
              "31        32  23526.302555  40.927689  2862.010139        0"
            ]
          },
          "execution_count": 105,
          "metadata": {},
          "output_type": "execute_result"
        }
      ],
      "source": [
        "base_credit.loc[base_credit['clientid'].isin([29, 31, 32])]"
      ]
    },
    {
      "cell_type": "markdown",
      "metadata": {
        "id": "w_IKYTAQZjrf"
      },
      "source": []
    },
    {
      "cell_type": "markdown",
      "metadata": {
        "id": "MQToCAbkNVjh"
      },
      "source": [
        "## Disão entre divisores e classe"
      ]
    },
    {
      "cell_type": "code",
      "execution_count": 106,
      "metadata": {
        "id": "jzw-_ANNNc_e"
      },
      "outputs": [],
      "source": [
        "X_credit = base_credit.iloc[:, 1:4].values"
      ]
    },
    {
      "cell_type": "code",
      "execution_count": 107,
      "metadata": {
        "colab": {
          "base_uri": "https://localhost:8080/"
        },
        "id": "LF2U8yA2aDYM",
        "outputId": "b2da2d39-fbac-4278-bf1e-31ce36e3cb46"
      },
      "outputs": [
        {
          "data": {
            "text/plain": [
              "array([[6.61559251e+04, 5.90170151e+01, 8.10653213e+03],\n",
              "       [3.44151540e+04, 4.81171531e+01, 6.56474502e+03],\n",
              "       [5.73171701e+04, 6.31080495e+01, 8.02095330e+03],\n",
              "       ...,\n",
              "       [4.43114493e+04, 2.80171669e+01, 5.52278669e+03],\n",
              "       [4.37560566e+04, 6.39717958e+01, 1.62272260e+03],\n",
              "       [6.94365796e+04, 5.61526170e+01, 7.37883360e+03]])"
            ]
          },
          "execution_count": 107,
          "metadata": {},
          "output_type": "execute_result"
        }
      ],
      "source": [
        "X_credit"
      ]
    },
    {
      "cell_type": "code",
      "execution_count": 108,
      "metadata": {
        "colab": {
          "base_uri": "https://localhost:8080/"
        },
        "id": "DqS3v6SlbeOM",
        "outputId": "0a09f263-09ab-48ed-a1e6-e7c9caa4cd10"
      },
      "outputs": [
        {
          "data": {
            "text/plain": [
              "numpy.ndarray"
            ]
          },
          "execution_count": 108,
          "metadata": {},
          "output_type": "execute_result"
        }
      ],
      "source": [
        "type(X_credit)"
      ]
    },
    {
      "cell_type": "code",
      "execution_count": 109,
      "metadata": {
        "id": "zVekUwlibjPA"
      },
      "outputs": [],
      "source": [
        "y_credit = base_credit.iloc[:, 4].values"
      ]
    },
    {
      "cell_type": "code",
      "execution_count": 110,
      "metadata": {
        "colab": {
          "base_uri": "https://localhost:8080/"
        },
        "id": "2dG7f2BabwOY",
        "outputId": "47bc6d29-c17b-4e32-8a4d-4f396c6baf99"
      },
      "outputs": [
        {
          "data": {
            "text/plain": [
              "array([0, 0, 0, ..., 1, 0, 0], dtype=int64)"
            ]
          },
          "execution_count": 110,
          "metadata": {},
          "output_type": "execute_result"
        }
      ],
      "source": [
        "y_credit"
      ]
    },
    {
      "cell_type": "code",
      "execution_count": 111,
      "metadata": {
        "colab": {
          "base_uri": "https://localhost:8080/"
        },
        "id": "Ll_2OXerb2iN",
        "outputId": "5a1cf03b-c294-462b-93d3-bbf04cf075b3"
      },
      "outputs": [
        {
          "data": {
            "text/plain": [
              "numpy.ndarray"
            ]
          },
          "execution_count": 111,
          "metadata": {},
          "output_type": "execute_result"
        }
      ],
      "source": [
        "type(y_credit)"
      ]
    },
    {
      "cell_type": "markdown",
      "metadata": {
        "id": "qLibxIcFd8Qw"
      },
      "source": [
        "### Escalonamento dos valores"
      ]
    },
    {
      "cell_type": "code",
      "execution_count": 112,
      "metadata": {
        "colab": {
          "base_uri": "https://localhost:8080/"
        },
        "id": "baIQ3Mzjd7Oe",
        "outputId": "84b437ec-8ead-4693-b8d6-e810dbd21e0c"
      },
      "outputs": [
        {
          "data": {
            "text/plain": [
              "array([[6.61559251e+04, 5.90170151e+01, 8.10653213e+03],\n",
              "       [3.44151540e+04, 4.81171531e+01, 6.56474502e+03],\n",
              "       [5.73171701e+04, 6.31080495e+01, 8.02095330e+03],\n",
              "       ...,\n",
              "       [4.43114493e+04, 2.80171669e+01, 5.52278669e+03],\n",
              "       [4.37560566e+04, 6.39717958e+01, 1.62272260e+03],\n",
              "       [6.94365796e+04, 5.61526170e+01, 7.37883360e+03]])"
            ]
          },
          "execution_count": 112,
          "metadata": {},
          "output_type": "execute_result"
        }
      ],
      "source": [
        "X_credit"
      ]
    },
    {
      "cell_type": "code",
      "execution_count": 113,
      "metadata": {
        "colab": {
          "base_uri": "https://localhost:8080/"
        },
        "id": "In5jCIUCeJfr",
        "outputId": "e23a6c22-ccac-4253-9e91-3297b2da34a2"
      },
      "outputs": [
        {
          "data": {
            "text/plain": [
              "(20014.4894700497, 18.055188510566897, 1.37762959325451)"
            ]
          },
          "execution_count": 113,
          "metadata": {},
          "output_type": "execute_result"
        }
      ],
      "source": [
        "X_credit[:,0].min(), X_credit[:,1].min(), X_credit[:,2].min()"
      ]
    },
    {
      "cell_type": "code",
      "execution_count": 114,
      "metadata": {
        "colab": {
          "base_uri": "https://localhost:8080/"
        },
        "id": "fZ5M6FQJeSTj",
        "outputId": "f63be9ab-68ec-4ce6-9a58-e625d1da13a1"
      },
      "outputs": [
        {
          "data": {
            "text/plain": [
              "(69995.6855783239, 63.971795841120205, 13766.0512393337)"
            ]
          },
          "execution_count": 114,
          "metadata": {},
          "output_type": "execute_result"
        }
      ],
      "source": [
        "X_credit[:,0].max(), X_credit[:,1].max(), X_credit[:,2].max()"
      ]
    },
    {
      "cell_type": "code",
      "execution_count": 115,
      "metadata": {
        "id": "uzvA3-42ieA9"
      },
      "outputs": [],
      "source": [
        "from sklearn.preprocessing import StandardScaler"
      ]
    },
    {
      "cell_type": "code",
      "execution_count": 116,
      "metadata": {
        "id": "k1_z4bLxjoyF"
      },
      "outputs": [],
      "source": [
        "scaler_credit = StandardScaler()"
      ]
    },
    {
      "cell_type": "code",
      "execution_count": 117,
      "metadata": {
        "id": "wrzAYQ7Ajs2d"
      },
      "outputs": [],
      "source": [
        "X_credit = scaler_credit.fit_transform(X_credit)"
      ]
    },
    {
      "cell_type": "code",
      "execution_count": 118,
      "metadata": {
        "colab": {
          "base_uri": "https://localhost:8080/"
        },
        "id": "iWCqVu2XjPxy",
        "outputId": "6a853f70-0456-4de9-8cfa-d98decede0ae"
      },
      "outputs": [
        {
          "data": {
            "text/plain": [
              "(-1.7676158019964077, -1.7264145408889917, -1.4592791099462408)"
            ]
          },
          "execution_count": 118,
          "metadata": {},
          "output_type": "execute_result"
        }
      ],
      "source": [
        "X_credit[:,0].min(), X_credit[:,1].min(), X_credit[:,2].min()"
      ]
    },
    {
      "cell_type": "code",
      "execution_count": 119,
      "metadata": {
        "colab": {
          "base_uri": "https://localhost:8080/"
        },
        "id": "BASKzSHIjL_h",
        "outputId": "fae6ad94-202e-4b69-823a-a24e6d128439"
      },
      "outputs": [
        {
          "data": {
            "text/plain": [
              "(1.7220222385319197, 1.7393673928651967, 3.0616609141708273)"
            ]
          },
          "execution_count": 119,
          "metadata": {},
          "output_type": "execute_result"
        }
      ],
      "source": [
        "X_credit[:,0].max(), X_credit[:,1].max(), X_credit[:,2].max()"
      ]
    },
    {
      "cell_type": "code",
      "execution_count": 120,
      "metadata": {
        "colab": {
          "base_uri": "https://localhost:8080/"
        },
        "id": "9t7Wv9mAj9yX",
        "outputId": "7b6d812d-e667-4e79-bd9f-ce3eede6abb0"
      },
      "outputs": [
        {
          "data": {
            "text/plain": [
              "array([[ 1.45393393,  1.36538093,  1.20281942],\n",
              "       [-0.76217555,  0.5426602 ,  0.69642695],\n",
              "       [ 0.83682073,  1.67417189,  1.17471147],\n",
              "       ...,\n",
              "       [-0.07122592, -0.97448519,  0.35420081],\n",
              "       [-0.11000289,  1.73936739, -0.92675625],\n",
              "       [ 1.682986  ,  1.14917639,  0.96381038]])"
            ]
          },
          "execution_count": 120,
          "metadata": {},
          "output_type": "execute_result"
        }
      ],
      "source": [
        "X_credit"
      ]
    }
  ],
  "metadata": {
    "colab": {
      "authorship_tag": "ABX9TyMqk9Mm9gRmb1Wyrr/4C2+O",
      "collapsed_sections": [
        "DC_4u6PsT2Gt"
      ],
      "include_colab_link": true,
      "provenance": []
    },
    "kernelspec": {
      "display_name": "base",
      "language": "python",
      "name": "python3"
    },
    "language_info": {
      "codemirror_mode": {
        "name": "ipython",
        "version": 3
      },
      "file_extension": ".py",
      "mimetype": "text/x-python",
      "name": "python",
      "nbconvert_exporter": "python",
      "pygments_lexer": "ipython3",
      "version": "3.12.7"
    }
  },
  "nbformat": 4,
  "nbformat_minor": 0
}
